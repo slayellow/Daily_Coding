{
 "cells": [
  {
   "cell_type": "code",
   "execution_count": 1,
   "metadata": {},
   "outputs": [],
   "source": [
    "from pandas_datareader import data as pdr\n",
    "import yfinance as yf\n",
    "yf.pdr_override()\n",
    "import matplotlib.pyplot as plt"
   ]
  },
  {
   "cell_type": "code",
   "execution_count": 3,
   "metadata": {},
   "outputs": [
    {
     "name": "stdout",
     "output_type": "stream",
     "text": [
      "[*********************100%***********************]  1 of 1 completed\n"
     ]
    },
    {
     "data": {
      "text/html": [
       "<div>\n",
       "<style scoped>\n",
       "    .dataframe tbody tr th:only-of-type {\n",
       "        vertical-align: middle;\n",
       "    }\n",
       "\n",
       "    .dataframe tbody tr th {\n",
       "        vertical-align: top;\n",
       "    }\n",
       "\n",
       "    .dataframe thead th {\n",
       "        text-align: right;\n",
       "    }\n",
       "</style>\n",
       "<table border=\"1\" class=\"dataframe\">\n",
       "  <thead>\n",
       "    <tr style=\"text-align: right;\">\n",
       "      <th></th>\n",
       "      <th>Open</th>\n",
       "      <th>High</th>\n",
       "      <th>Low</th>\n",
       "      <th>Close</th>\n",
       "      <th>Adj Close</th>\n",
       "      <th>Volume</th>\n",
       "    </tr>\n",
       "    <tr>\n",
       "      <th>Date</th>\n",
       "      <th></th>\n",
       "      <th></th>\n",
       "      <th></th>\n",
       "      <th></th>\n",
       "      <th></th>\n",
       "      <th></th>\n",
       "    </tr>\n",
       "  </thead>\n",
       "  <tbody>\n",
       "    <tr>\n",
       "      <th>2017-01-02</th>\n",
       "      <td>35980.0</td>\n",
       "      <td>36240.0</td>\n",
       "      <td>35880.0</td>\n",
       "      <td>36100.0</td>\n",
       "      <td>30976.968750</td>\n",
       "      <td>4650600</td>\n",
       "    </tr>\n",
       "    <tr>\n",
       "      <th>2017-01-03</th>\n",
       "      <td>36280.0</td>\n",
       "      <td>36620.0</td>\n",
       "      <td>36020.0</td>\n",
       "      <td>36480.0</td>\n",
       "      <td>31303.029297</td>\n",
       "      <td>7357650</td>\n",
       "    </tr>\n",
       "    <tr>\n",
       "      <th>2017-01-04</th>\n",
       "      <td>36500.0</td>\n",
       "      <td>36520.0</td>\n",
       "      <td>36100.0</td>\n",
       "      <td>36160.0</td>\n",
       "      <td>31028.451172</td>\n",
       "      <td>7971750</td>\n",
       "    </tr>\n",
       "    <tr>\n",
       "      <th>2017-01-05</th>\n",
       "      <td>36060.0</td>\n",
       "      <td>36060.0</td>\n",
       "      <td>35540.0</td>\n",
       "      <td>35560.0</td>\n",
       "      <td>30513.591797</td>\n",
       "      <td>10967450</td>\n",
       "    </tr>\n",
       "    <tr>\n",
       "      <th>2017-01-06</th>\n",
       "      <td>36180.0</td>\n",
       "      <td>36440.0</td>\n",
       "      <td>36040.0</td>\n",
       "      <td>36200.0</td>\n",
       "      <td>31062.765625</td>\n",
       "      <td>8880950</td>\n",
       "    </tr>\n",
       "    <tr>\n",
       "      <th>...</th>\n",
       "      <td>...</td>\n",
       "      <td>...</td>\n",
       "      <td>...</td>\n",
       "      <td>...</td>\n",
       "      <td>...</td>\n",
       "      <td>...</td>\n",
       "    </tr>\n",
       "    <tr>\n",
       "      <th>2022-08-12</th>\n",
       "      <td>59500.0</td>\n",
       "      <td>60700.0</td>\n",
       "      <td>59400.0</td>\n",
       "      <td>60200.0</td>\n",
       "      <td>60200.000000</td>\n",
       "      <td>10786658</td>\n",
       "    </tr>\n",
       "    <tr>\n",
       "      <th>2022-08-16</th>\n",
       "      <td>60500.0</td>\n",
       "      <td>61600.0</td>\n",
       "      <td>60300.0</td>\n",
       "      <td>61000.0</td>\n",
       "      <td>61000.000000</td>\n",
       "      <td>15036727</td>\n",
       "    </tr>\n",
       "    <tr>\n",
       "      <th>2022-08-17</th>\n",
       "      <td>61100.0</td>\n",
       "      <td>61200.0</td>\n",
       "      <td>60300.0</td>\n",
       "      <td>60400.0</td>\n",
       "      <td>60400.000000</td>\n",
       "      <td>9061518</td>\n",
       "    </tr>\n",
       "    <tr>\n",
       "      <th>2022-08-18</th>\n",
       "      <td>60300.0</td>\n",
       "      <td>61900.0</td>\n",
       "      <td>60000.0</td>\n",
       "      <td>61500.0</td>\n",
       "      <td>61500.000000</td>\n",
       "      <td>16372754</td>\n",
       "    </tr>\n",
       "    <tr>\n",
       "      <th>2022-08-19</th>\n",
       "      <td>61400.0</td>\n",
       "      <td>61600.0</td>\n",
       "      <td>60600.0</td>\n",
       "      <td>60900.0</td>\n",
       "      <td>60900.000000</td>\n",
       "      <td>6923679</td>\n",
       "    </tr>\n",
       "  </tbody>\n",
       "</table>\n",
       "<p>1381 rows × 6 columns</p>\n",
       "</div>"
      ],
      "text/plain": [
       "               Open     High      Low    Close     Adj Close    Volume\n",
       "Date                                                                  \n",
       "2017-01-02  35980.0  36240.0  35880.0  36100.0  30976.968750   4650600\n",
       "2017-01-03  36280.0  36620.0  36020.0  36480.0  31303.029297   7357650\n",
       "2017-01-04  36500.0  36520.0  36100.0  36160.0  31028.451172   7971750\n",
       "2017-01-05  36060.0  36060.0  35540.0  35560.0  30513.591797  10967450\n",
       "2017-01-06  36180.0  36440.0  36040.0  36200.0  31062.765625   8880950\n",
       "...             ...      ...      ...      ...           ...       ...\n",
       "2022-08-12  59500.0  60700.0  59400.0  60200.0  60200.000000  10786658\n",
       "2022-08-16  60500.0  61600.0  60300.0  61000.0  61000.000000  15036727\n",
       "2022-08-17  61100.0  61200.0  60300.0  60400.0  60400.000000   9061518\n",
       "2022-08-18  60300.0  61900.0  60000.0  61500.0  61500.000000  16372754\n",
       "2022-08-19  61400.0  61600.0  60600.0  60900.0  60900.000000   6923679\n",
       "\n",
       "[1381 rows x 6 columns]"
      ]
     },
     "execution_count": 3,
     "metadata": {},
     "output_type": "execute_result"
    }
   ],
   "source": [
    "df = pdr.get_data_yahoo('005930.KS', '2017-01-01')\n",
    "df"
   ]
  },
  {
   "cell_type": "code",
   "execution_count": 4,
   "metadata": {},
   "outputs": [
    {
     "data": {
      "image/png": "[encoded data removed]",
      "text/plain": [
       "<Figure size 648x432 with 2 Axes>"
      ]
     },
     "metadata": {
      "needs_background": "light"
     },
     "output_type": "display_data"
    }
   ],
   "source": [
    "plt.figure(figsize=(9, 6))\n",
    "plt.subplot(2, 1, 1)\n",
    "plt.title('Samsung Electronics (Yahoo Finance)')\n",
    "plt.plot(df.index, df.Close, 'c', label='Close')\n",
    "plt.plot(df.index, df['Adj Close'], 'b--', label='Adj Close')\n",
    "plt.legend(loc='best')\n",
    "plt.subplot(2, 1, 2)\n",
    "plt.bar(df.index, df['Volume'], color='g', label='Volume')\n",
    "plt.legend(loc='best')\n",
    "plt.show()"
   ]
  },
  {
   "cell_type": "code",
   "execution_count": null,
   "metadata": {},
   "outputs": [],
   "source": []
  }
 ],
 "metadata": {
  "kernelspec": {
   "display_name": "Python 3.9.12 64-bit ('py39')",
   "language": "python",
   "name": "python3"
  },
  "language_info": {
   "codemirror_mode": {
    "name": "ipython",
    "version": 3
   },
   "file_extension": ".py",
   "mimetype": "text/x-python",
   "name": "python",
   "nbconvert_exporter": "python",
   "pygments_lexer": "ipython3",
   "version": "3.9.12"
  },
  "orig_nbformat": 4,
  "vscode": {
   "interpreter": {
    "hash": "9784e81e404edf4d0536ccf7e06d167bb8edc7bd4e5f9b4f5b161ab7c55faa7c"
   }
  }
 },
 "nbformat": 4,
 "nbformat_minor": 2
}
