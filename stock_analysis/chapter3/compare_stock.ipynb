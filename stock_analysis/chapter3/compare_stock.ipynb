{
 "cells": [
  {
   "cell_type": "code",
   "execution_count": 1,
   "metadata": {},
   "outputs": [],
   "source": [
    "from pandas_datareader import data as pdr"
   ]
  },
  {
   "cell_type": "code",
   "execution_count": 2,
   "metadata": {},
   "outputs": [],
   "source": [
    "import yfinance as tf\n"
   ]
  },
  {
   "cell_type": "code",
   "execution_count": 4,
   "metadata": {},
   "outputs": [],
   "source": [
    "tf.pdr_override()"
   ]
  },
  {
   "cell_type": "code",
   "execution_count": 5,
   "metadata": {},
   "outputs": [
    {
     "name": "stdout",
     "output_type": "stream",
     "text": [
      "[*********************100%***********************]  1 of 1 completed\n",
      "[*********************100%***********************]  1 of 1 completed\n"
     ]
    }
   ],
   "source": [
    "sec = pdr.get_data_yahoo('005930.KS')\n",
    "msft = pdr.get_data_yahoo('MSFT')"
   ]
  },
  {
   "cell_type": "code",
   "execution_count": 6,
   "metadata": {},
   "outputs": [
    {
     "data": {
      "text/html": [
       "<div>\n",
       "<style scoped>\n",
       "    .dataframe tbody tr th:only-of-type {\n",
       "        vertical-align: middle;\n",
       "    }\n",
       "\n",
       "    .dataframe tbody tr th {\n",
       "        vertical-align: top;\n",
       "    }\n",
       "\n",
       "    .dataframe thead th {\n",
       "        text-align: right;\n",
       "    }\n",
       "</style>\n",
       "<table border=\"1\" class=\"dataframe\">\n",
       "  <thead>\n",
       "    <tr style=\"text-align: right;\">\n",
       "      <th></th>\n",
       "      <th>Open</th>\n",
       "      <th>High</th>\n",
       "      <th>Low</th>\n",
       "      <th>Close</th>\n",
       "      <th>Adj Close</th>\n",
       "      <th>Volume</th>\n",
       "    </tr>\n",
       "    <tr>\n",
       "      <th>Date</th>\n",
       "      <th></th>\n",
       "      <th></th>\n",
       "      <th></th>\n",
       "      <th></th>\n",
       "      <th></th>\n",
       "      <th></th>\n",
       "    </tr>\n",
       "  </thead>\n",
       "  <tbody>\n",
       "    <tr>\n",
       "      <th>2000-01-04</th>\n",
       "      <td>6000.0</td>\n",
       "      <td>6110.0</td>\n",
       "      <td>5660.0</td>\n",
       "      <td>6110.0</td>\n",
       "      <td>4623.467285</td>\n",
       "      <td>74195000</td>\n",
       "    </tr>\n",
       "    <tr>\n",
       "      <th>2000-01-05</th>\n",
       "      <td>5800.0</td>\n",
       "      <td>6060.0</td>\n",
       "      <td>5520.0</td>\n",
       "      <td>5580.0</td>\n",
       "      <td>4222.414062</td>\n",
       "      <td>74680000</td>\n",
       "    </tr>\n",
       "    <tr>\n",
       "      <th>2000-01-06</th>\n",
       "      <td>5750.0</td>\n",
       "      <td>5780.0</td>\n",
       "      <td>5580.0</td>\n",
       "      <td>5620.0</td>\n",
       "      <td>4252.682129</td>\n",
       "      <td>54390000</td>\n",
       "    </tr>\n",
       "    <tr>\n",
       "      <th>2000-01-07</th>\n",
       "      <td>5560.0</td>\n",
       "      <td>5670.0</td>\n",
       "      <td>5360.0</td>\n",
       "      <td>5540.0</td>\n",
       "      <td>4192.145508</td>\n",
       "      <td>40305000</td>\n",
       "    </tr>\n",
       "    <tr>\n",
       "      <th>2000-01-10</th>\n",
       "      <td>5600.0</td>\n",
       "      <td>5770.0</td>\n",
       "      <td>5580.0</td>\n",
       "      <td>5770.0</td>\n",
       "      <td>4366.187500</td>\n",
       "      <td>46880000</td>\n",
       "    </tr>\n",
       "    <tr>\n",
       "      <th>...</th>\n",
       "      <td>...</td>\n",
       "      <td>...</td>\n",
       "      <td>...</td>\n",
       "      <td>...</td>\n",
       "      <td>...</td>\n",
       "      <td>...</td>\n",
       "    </tr>\n",
       "    <tr>\n",
       "      <th>2022-08-09</th>\n",
       "      <td>60600.0</td>\n",
       "      <td>60700.0</td>\n",
       "      <td>59600.0</td>\n",
       "      <td>60000.0</td>\n",
       "      <td>60000.000000</td>\n",
       "      <td>18251170</td>\n",
       "    </tr>\n",
       "    <tr>\n",
       "      <th>2022-08-10</th>\n",
       "      <td>58900.0</td>\n",
       "      <td>59200.0</td>\n",
       "      <td>58600.0</td>\n",
       "      <td>59100.0</td>\n",
       "      <td>59100.000000</td>\n",
       "      <td>18084349</td>\n",
       "    </tr>\n",
       "    <tr>\n",
       "      <th>2022-08-11</th>\n",
       "      <td>59600.0</td>\n",
       "      <td>60000.0</td>\n",
       "      <td>59300.0</td>\n",
       "      <td>59900.0</td>\n",
       "      <td>59900.000000</td>\n",
       "      <td>15141941</td>\n",
       "    </tr>\n",
       "    <tr>\n",
       "      <th>2022-08-12</th>\n",
       "      <td>59500.0</td>\n",
       "      <td>60700.0</td>\n",
       "      <td>59400.0</td>\n",
       "      <td>60200.0</td>\n",
       "      <td>60200.000000</td>\n",
       "      <td>10786658</td>\n",
       "    </tr>\n",
       "    <tr>\n",
       "      <th>2022-08-16</th>\n",
       "      <td>60500.0</td>\n",
       "      <td>61600.0</td>\n",
       "      <td>60300.0</td>\n",
       "      <td>61000.0</td>\n",
       "      <td>61000.000000</td>\n",
       "      <td>14031141</td>\n",
       "    </tr>\n",
       "  </tbody>\n",
       "</table>\n",
       "<p>5679 rows × 6 columns</p>\n",
       "</div>"
      ],
      "text/plain": [
       "               Open     High      Low    Close     Adj Close    Volume\n",
       "Date                                                                  \n",
       "2000-01-04   6000.0   6110.0   5660.0   6110.0   4623.467285  74195000\n",
       "2000-01-05   5800.0   6060.0   5520.0   5580.0   4222.414062  74680000\n",
       "2000-01-06   5750.0   5780.0   5580.0   5620.0   4252.682129  54390000\n",
       "2000-01-07   5560.0   5670.0   5360.0   5540.0   4192.145508  40305000\n",
       "2000-01-10   5600.0   5770.0   5580.0   5770.0   4366.187500  46880000\n",
       "...             ...      ...      ...      ...           ...       ...\n",
       "2022-08-09  60600.0  60700.0  59600.0  60000.0  60000.000000  18251170\n",
       "2022-08-10  58900.0  59200.0  58600.0  59100.0  59100.000000  18084349\n",
       "2022-08-11  59600.0  60000.0  59300.0  59900.0  59900.000000  15141941\n",
       "2022-08-12  59500.0  60700.0  59400.0  60200.0  60200.000000  10786658\n",
       "2022-08-16  60500.0  61600.0  60300.0  61000.0  61000.000000  14031141\n",
       "\n",
       "[5679 rows x 6 columns]"
      ]
     },
     "execution_count": 6,
     "metadata": {},
     "output_type": "execute_result"
    }
   ],
   "source": [
    "sec"
   ]
  },
  {
   "cell_type": "code",
   "execution_count": 7,
   "metadata": {},
   "outputs": [
    {
     "name": "stdout",
     "output_type": "stream",
     "text": [
      "[*********************100%***********************]  1 of 1 completed\n"
     ]
    },
    {
     "data": {
      "text/html": [
       "<div>\n",
       "<style scoped>\n",
       "    .dataframe tbody tr th:only-of-type {\n",
       "        vertical-align: middle;\n",
       "    }\n",
       "\n",
       "    .dataframe tbody tr th {\n",
       "        vertical-align: top;\n",
       "    }\n",
       "\n",
       "    .dataframe thead th {\n",
       "        text-align: right;\n",
       "    }\n",
       "</style>\n",
       "<table border=\"1\" class=\"dataframe\">\n",
       "  <thead>\n",
       "    <tr style=\"text-align: right;\">\n",
       "      <th></th>\n",
       "      <th>Open</th>\n",
       "      <th>High</th>\n",
       "      <th>Low</th>\n",
       "      <th>Close</th>\n",
       "      <th>Adj Close</th>\n",
       "      <th>Volume</th>\n",
       "    </tr>\n",
       "    <tr>\n",
       "      <th>Date</th>\n",
       "      <th></th>\n",
       "      <th></th>\n",
       "      <th></th>\n",
       "      <th></th>\n",
       "      <th></th>\n",
       "      <th></th>\n",
       "    </tr>\n",
       "  </thead>\n",
       "  <tbody>\n",
       "    <tr>\n",
       "      <th>2017-09-29</th>\n",
       "      <td>10.500</td>\n",
       "      <td>10.500</td>\n",
       "      <td>10.000</td>\n",
       "      <td>10.10</td>\n",
       "      <td>10.10</td>\n",
       "      <td>212800</td>\n",
       "    </tr>\n",
       "    <tr>\n",
       "      <th>2017-10-02</th>\n",
       "      <td>10.150</td>\n",
       "      <td>10.200</td>\n",
       "      <td>10.050</td>\n",
       "      <td>10.08</td>\n",
       "      <td>10.08</td>\n",
       "      <td>36500</td>\n",
       "    </tr>\n",
       "    <tr>\n",
       "      <th>2017-10-03</th>\n",
       "      <td>10.091</td>\n",
       "      <td>10.100</td>\n",
       "      <td>10.079</td>\n",
       "      <td>10.10</td>\n",
       "      <td>10.10</td>\n",
       "      <td>13300</td>\n",
       "    </tr>\n",
       "    <tr>\n",
       "      <th>2017-10-04</th>\n",
       "      <td>10.100</td>\n",
       "      <td>10.150</td>\n",
       "      <td>10.093</td>\n",
       "      <td>10.11</td>\n",
       "      <td>10.11</td>\n",
       "      <td>55600</td>\n",
       "    </tr>\n",
       "    <tr>\n",
       "      <th>2017-10-05</th>\n",
       "      <td>10.150</td>\n",
       "      <td>10.150</td>\n",
       "      <td>10.100</td>\n",
       "      <td>10.10</td>\n",
       "      <td>10.10</td>\n",
       "      <td>212500</td>\n",
       "    </tr>\n",
       "    <tr>\n",
       "      <th>...</th>\n",
       "      <td>...</td>\n",
       "      <td>...</td>\n",
       "      <td>...</td>\n",
       "      <td>...</td>\n",
       "      <td>...</td>\n",
       "      <td>...</td>\n",
       "    </tr>\n",
       "    <tr>\n",
       "      <th>2022-08-09</th>\n",
       "      <td>6.730</td>\n",
       "      <td>7.020</td>\n",
       "      <td>6.520</td>\n",
       "      <td>6.64</td>\n",
       "      <td>6.64</td>\n",
       "      <td>6574300</td>\n",
       "    </tr>\n",
       "    <tr>\n",
       "      <th>2022-08-10</th>\n",
       "      <td>6.910</td>\n",
       "      <td>7.060</td>\n",
       "      <td>6.740</td>\n",
       "      <td>7.02</td>\n",
       "      <td>7.02</td>\n",
       "      <td>8380600</td>\n",
       "    </tr>\n",
       "    <tr>\n",
       "      <th>2022-08-11</th>\n",
       "      <td>7.100</td>\n",
       "      <td>7.369</td>\n",
       "      <td>6.820</td>\n",
       "      <td>6.98</td>\n",
       "      <td>6.98</td>\n",
       "      <td>9454600</td>\n",
       "    </tr>\n",
       "    <tr>\n",
       "      <th>2022-08-12</th>\n",
       "      <td>7.040</td>\n",
       "      <td>7.190</td>\n",
       "      <td>6.800</td>\n",
       "      <td>7.12</td>\n",
       "      <td>7.12</td>\n",
       "      <td>7792000</td>\n",
       "    </tr>\n",
       "    <tr>\n",
       "      <th>2022-08-15</th>\n",
       "      <td>7.030</td>\n",
       "      <td>7.329</td>\n",
       "      <td>6.950</td>\n",
       "      <td>7.08</td>\n",
       "      <td>7.08</td>\n",
       "      <td>5800800</td>\n",
       "    </tr>\n",
       "  </tbody>\n",
       "</table>\n",
       "<p>1227 rows × 6 columns</p>\n",
       "</div>"
      ],
      "text/plain": [
       "              Open    High     Low  Close  Adj Close   Volume\n",
       "Date                                                         \n",
       "2017-09-29  10.500  10.500  10.000  10.10      10.10   212800\n",
       "2017-10-02  10.150  10.200  10.050  10.08      10.08    36500\n",
       "2017-10-03  10.091  10.100  10.079  10.10      10.10    13300\n",
       "2017-10-04  10.100  10.150  10.093  10.11      10.11    55600\n",
       "2017-10-05  10.150  10.150  10.100  10.10      10.10   212500\n",
       "...            ...     ...     ...    ...        ...      ...\n",
       "2022-08-09   6.730   7.020   6.520   6.64       6.64  6574300\n",
       "2022-08-10   6.910   7.060   6.740   7.02       7.02  8380600\n",
       "2022-08-11   7.100   7.369   6.820   6.98       6.98  9454600\n",
       "2022-08-12   7.040   7.190   6.800   7.12       7.12  7792000\n",
       "2022-08-15   7.030   7.329   6.950   7.08       7.08  5800800\n",
       "\n",
       "[1227 rows x 6 columns]"
      ]
     },
     "execution_count": 7,
     "metadata": {},
     "output_type": "execute_result"
    }
   ],
   "source": [
    "spce = pdr.get_data_yahoo('SPCE')\n",
    "spce"
   ]
  },
  {
   "cell_type": "code",
   "execution_count": 8,
   "metadata": {},
   "outputs": [
    {
     "data": {
      "text/html": [
       "<div>\n",
       "<style scoped>\n",
       "    .dataframe tbody tr th:only-of-type {\n",
       "        vertical-align: middle;\n",
       "    }\n",
       "\n",
       "    .dataframe tbody tr th {\n",
       "        vertical-align: top;\n",
       "    }\n",
       "\n",
       "    .dataframe thead th {\n",
       "        text-align: right;\n",
       "    }\n",
       "</style>\n",
       "<table border=\"1\" class=\"dataframe\">\n",
       "  <thead>\n",
       "    <tr style=\"text-align: right;\">\n",
       "      <th></th>\n",
       "      <th>Open</th>\n",
       "      <th>High</th>\n",
       "      <th>Low</th>\n",
       "      <th>Close</th>\n",
       "      <th>Adj Close</th>\n",
       "      <th>Volume</th>\n",
       "    </tr>\n",
       "    <tr>\n",
       "      <th>Date</th>\n",
       "      <th></th>\n",
       "      <th></th>\n",
       "      <th></th>\n",
       "      <th></th>\n",
       "      <th></th>\n",
       "      <th></th>\n",
       "    </tr>\n",
       "  </thead>\n",
       "  <tbody>\n",
       "    <tr>\n",
       "      <th>2022-08-09</th>\n",
       "      <td>6.73</td>\n",
       "      <td>7.020</td>\n",
       "      <td>6.52</td>\n",
       "      <td>6.64</td>\n",
       "      <td>6.64</td>\n",
       "      <td>6574300</td>\n",
       "    </tr>\n",
       "    <tr>\n",
       "      <th>2022-08-10</th>\n",
       "      <td>6.91</td>\n",
       "      <td>7.060</td>\n",
       "      <td>6.74</td>\n",
       "      <td>7.02</td>\n",
       "      <td>7.02</td>\n",
       "      <td>8380600</td>\n",
       "    </tr>\n",
       "    <tr>\n",
       "      <th>2022-08-11</th>\n",
       "      <td>7.10</td>\n",
       "      <td>7.369</td>\n",
       "      <td>6.82</td>\n",
       "      <td>6.98</td>\n",
       "      <td>6.98</td>\n",
       "      <td>9454600</td>\n",
       "    </tr>\n",
       "    <tr>\n",
       "      <th>2022-08-12</th>\n",
       "      <td>7.04</td>\n",
       "      <td>7.190</td>\n",
       "      <td>6.80</td>\n",
       "      <td>7.12</td>\n",
       "      <td>7.12</td>\n",
       "      <td>7792000</td>\n",
       "    </tr>\n",
       "    <tr>\n",
       "      <th>2022-08-15</th>\n",
       "      <td>7.03</td>\n",
       "      <td>7.329</td>\n",
       "      <td>6.95</td>\n",
       "      <td>7.08</td>\n",
       "      <td>7.08</td>\n",
       "      <td>5800800</td>\n",
       "    </tr>\n",
       "  </tbody>\n",
       "</table>\n",
       "</div>"
      ],
      "text/plain": [
       "            Open   High   Low  Close  Adj Close   Volume\n",
       "Date                                                    \n",
       "2022-08-09  6.73  7.020  6.52   6.64       6.64  6574300\n",
       "2022-08-10  6.91  7.060  6.74   7.02       7.02  8380600\n",
       "2022-08-11  7.10  7.369  6.82   6.98       6.98  9454600\n",
       "2022-08-12  7.04  7.190  6.80   7.12       7.12  7792000\n",
       "2022-08-15  7.03  7.329  6.95   7.08       7.08  5800800"
      ]
     },
     "execution_count": 8,
     "metadata": {},
     "output_type": "execute_result"
    }
   ],
   "source": [
    "spce.tail()"
   ]
  },
  {
   "cell_type": "code",
   "execution_count": 10,
   "metadata": {},
   "outputs": [
    {
     "data": {
      "text/plain": [
       "DatetimeIndex(['2017-09-29', '2017-10-02', '2017-10-03', '2017-10-04',\n",
       "               '2017-10-05', '2017-10-06', '2017-10-09', '2017-10-10',\n",
       "               '2017-10-11', '2017-10-12',\n",
       "               ...\n",
       "               '2022-08-02', '2022-08-03', '2022-08-04', '2022-08-05',\n",
       "               '2022-08-08', '2022-08-09', '2022-08-10', '2022-08-11',\n",
       "               '2022-08-12', '2022-08-15'],\n",
       "              dtype='datetime64[ns]', name='Date', length=1227, freq=None)"
      ]
     },
     "execution_count": 10,
     "metadata": {},
     "output_type": "execute_result"
    }
   ],
   "source": [
    "spce.index\n"
   ]
  },
  {
   "cell_type": "code",
   "execution_count": 14,
   "metadata": {},
   "outputs": [
    {
     "data": {
      "image/png": "[encoded data removed]",
      "text/plain": [
       "<Figure size 432x288 with 1 Axes>"
      ]
     },
     "metadata": {
      "needs_background": "light"
     },
     "output_type": "display_data"
    }
   ],
   "source": [
    "import matplotlib.pyplot as plt\n",
    "plt.plot(spce.index, spce.Close, 'b', label='SPCE')\n",
    "plt.legend(loc='best')\n",
    "plt.show()"
   ]
  },
  {
   "cell_type": "code",
   "execution_count": 15,
   "metadata": {},
   "outputs": [
    {
     "data": {
      "image/png": "[encoded data removed]",
      "text/plain": [
       "<Figure size 432x288 with 1 Axes>"
      ]
     },
     "metadata": {
      "needs_background": "light"
     },
     "output_type": "display_data"
    }
   ],
   "source": [
    "plt.plot(sec.index, sec.Close, 'r--', label='Samsung')\n",
    "plt.legend(loc='best')\n",
    "plt.show()"
   ]
  },
  {
   "cell_type": "code",
   "execution_count": 16,
   "metadata": {},
   "outputs": [
    {
     "data": {
      "text/plain": [
       "pandas.core.series.Series"
      ]
     },
     "execution_count": 16,
     "metadata": {},
     "output_type": "execute_result"
    }
   ],
   "source": [
    "type(sec['Close'])"
   ]
  },
  {
   "cell_type": "code",
   "execution_count": 17,
   "metadata": {},
   "outputs": [
    {
     "data": {
      "text/plain": [
       "Date\n",
       "2000-01-04     6110.0\n",
       "2000-01-05     5580.0\n",
       "2000-01-06     5620.0\n",
       "2000-01-07     5540.0\n",
       "2000-01-10     5770.0\n",
       "               ...   \n",
       "2022-08-09    60000.0\n",
       "2022-08-10    59100.0\n",
       "2022-08-11    59900.0\n",
       "2022-08-12    60200.0\n",
       "2022-08-16    61000.0\n",
       "Name: Close, Length: 5679, dtype: float64"
      ]
     },
     "execution_count": 17,
     "metadata": {},
     "output_type": "execute_result"
    }
   ],
   "source": [
    "sec['Close']"
   ]
  },
  {
   "cell_type": "code",
   "execution_count": 18,
   "metadata": {},
   "outputs": [
    {
     "data": {
      "text/plain": [
       "Date\n",
       "2000-01-04        NaN\n",
       "2000-01-05     6110.0\n",
       "2000-01-06     5580.0\n",
       "2000-01-07     5620.0\n",
       "2000-01-10     5540.0\n",
       "               ...   \n",
       "2022-08-09    60800.0\n",
       "2022-08-10    60000.0\n",
       "2022-08-11    59100.0\n",
       "2022-08-12    59900.0\n",
       "2022-08-16    60200.0\n",
       "Name: Close, Length: 5679, dtype: float64"
      ]
     },
     "execution_count": 18,
     "metadata": {},
     "output_type": "execute_result"
    }
   ],
   "source": [
    "sec['Close'].shift(1)"
   ]
  },
  {
   "cell_type": "code",
   "execution_count": 19,
   "metadata": {},
   "outputs": [],
   "source": [
    "sec_dpc = (sec['Close'] / sec['Close'].shift(1) - 1) * 100"
   ]
  },
  {
   "cell_type": "code",
   "execution_count": 20,
   "metadata": {},
   "outputs": [
    {
     "data": {
      "text/plain": [
       "Date\n",
       "2000-01-04         NaN\n",
       "2000-01-05   -8.674304\n",
       "2000-01-06    0.716846\n",
       "2000-01-07   -1.423488\n",
       "2000-01-10    4.151625\n",
       "                ...   \n",
       "2022-08-09   -1.315789\n",
       "2022-08-10   -1.500000\n",
       "2022-08-11    1.353638\n",
       "2022-08-12    0.500835\n",
       "2022-08-16    1.328904\n",
       "Name: Close, Length: 5679, dtype: float64"
      ]
     },
     "execution_count": 20,
     "metadata": {},
     "output_type": "execute_result"
    }
   ],
   "source": [
    "sec_dpc"
   ]
  },
  {
   "cell_type": "code",
   "execution_count": 21,
   "metadata": {},
   "outputs": [
    {
     "data": {
      "text/plain": [
       "Date\n",
       "2000-01-04    0.000000\n",
       "2000-01-05   -8.674304\n",
       "2000-01-06    0.716846\n",
       "2000-01-07   -1.423488\n",
       "2000-01-10    4.151625\n",
       "Name: Close, dtype: float64"
      ]
     },
     "execution_count": 21,
     "metadata": {},
     "output_type": "execute_result"
    }
   ],
   "source": [
    "sec_dpc.iloc[0] = 0\n",
    "sec_dpc.head()"
   ]
  },
  {
   "cell_type": "code",
   "execution_count": 23,
   "metadata": {},
   "outputs": [],
   "source": [
    "spce_dpc = (spce['Close'] / spce['Close'].shift(1) - 1) * 100"
   ]
  },
  {
   "cell_type": "code",
   "execution_count": 24,
   "metadata": {},
   "outputs": [
    {
     "data": {
      "text/plain": [
       "Date\n",
       "2017-09-29    0.000000\n",
       "2017-10-02   -0.198024\n",
       "2017-10-03    0.198417\n",
       "2017-10-04    0.099003\n",
       "2017-10-05   -0.098905\n",
       "                ...   \n",
       "2022-08-09   -2.496330\n",
       "2022-08-10    5.722893\n",
       "2022-08-11   -0.569800\n",
       "2022-08-12    2.005729\n",
       "2022-08-15   -0.561797\n",
       "Name: Close, Length: 1227, dtype: float64"
      ]
     },
     "execution_count": 24,
     "metadata": {},
     "output_type": "execute_result"
    }
   ],
   "source": [
    "spce_dpc.iloc[0] = 0\n",
    "spce_dpc"
   ]
  },
  {
   "cell_type": "code",
   "execution_count": 25,
   "metadata": {},
   "outputs": [
    {
     "data": {
      "image/png": "[encoded data removed]",
      "text/plain": [
       "<Figure size 432x288 with 1 Axes>"
      ]
     },
     "metadata": {
      "needs_background": "light"
     },
     "output_type": "display_data"
    }
   ],
   "source": [
    "plt.hist(sec_dpc, bins=18)\n",
    "plt.grid(True)"
   ]
  },
  {
   "cell_type": "code",
   "execution_count": 26,
   "metadata": {},
   "outputs": [
    {
     "data": {
      "image/png": "[encoded data removed]",
      "text/plain": [
       "<Figure size 432x288 with 1 Axes>"
      ]
     },
     "metadata": {
      "needs_background": "light"
     },
     "output_type": "display_data"
    }
   ],
   "source": [
    "plt.hist(spce_dpc, bins=18)\n",
    "plt.grid(True)"
   ]
  },
  {
   "cell_type": "code",
   "execution_count": 27,
   "metadata": {},
   "outputs": [
    {
     "data": {
      "text/html": [
       "<div>\n",
       "<style scoped>\n",
       "    .dataframe tbody tr th:only-of-type {\n",
       "        vertical-align: middle;\n",
       "    }\n",
       "\n",
       "    .dataframe tbody tr th {\n",
       "        vertical-align: top;\n",
       "    }\n",
       "\n",
       "    .dataframe thead th {\n",
       "        text-align: right;\n",
       "    }\n",
       "</style>\n",
       "<table border=\"1\" class=\"dataframe\">\n",
       "  <thead>\n",
       "    <tr style=\"text-align: right;\">\n",
       "      <th></th>\n",
       "      <th>Open</th>\n",
       "      <th>High</th>\n",
       "      <th>Low</th>\n",
       "      <th>Close</th>\n",
       "      <th>Adj Close</th>\n",
       "      <th>Volume</th>\n",
       "    </tr>\n",
       "  </thead>\n",
       "  <tbody>\n",
       "    <tr>\n",
       "      <th>count</th>\n",
       "      <td>5679.000000</td>\n",
       "      <td>5679.000000</td>\n",
       "      <td>5679.000000</td>\n",
       "      <td>5679.000000</td>\n",
       "      <td>5679.000000</td>\n",
       "      <td>5.679000e+03</td>\n",
       "    </tr>\n",
       "    <tr>\n",
       "      <th>mean</th>\n",
       "      <td>25254.560662</td>\n",
       "      <td>25508.304279</td>\n",
       "      <td>24995.018489</td>\n",
       "      <td>25249.191759</td>\n",
       "      <td>21998.820920</td>\n",
       "      <td>2.171192e+07</td>\n",
       "    </tr>\n",
       "    <tr>\n",
       "      <th>std</th>\n",
       "      <td>20337.294251</td>\n",
       "      <td>20504.080838</td>\n",
       "      <td>20162.234586</td>\n",
       "      <td>20321.946783</td>\n",
       "      <td>19918.218092</td>\n",
       "      <td>1.539307e+07</td>\n",
       "    </tr>\n",
       "    <tr>\n",
       "      <th>min</th>\n",
       "      <td>2540.000000</td>\n",
       "      <td>2760.000000</td>\n",
       "      <td>2420.000000</td>\n",
       "      <td>2730.000000</td>\n",
       "      <td>2065.804443</td>\n",
       "      <td>0.000000e+00</td>\n",
       "    </tr>\n",
       "    <tr>\n",
       "      <th>25%</th>\n",
       "      <td>10220.000000</td>\n",
       "      <td>10380.000000</td>\n",
       "      <td>10080.000000</td>\n",
       "      <td>10250.000000</td>\n",
       "      <td>7824.330078</td>\n",
       "      <td>1.179838e+07</td>\n",
       "    </tr>\n",
       "    <tr>\n",
       "      <th>50%</th>\n",
       "      <td>16900.000000</td>\n",
       "      <td>17020.000000</td>\n",
       "      <td>16620.000000</td>\n",
       "      <td>16880.000000</td>\n",
       "      <td>13460.038086</td>\n",
       "      <td>1.770370e+07</td>\n",
       "    </tr>\n",
       "    <tr>\n",
       "      <th>75%</th>\n",
       "      <td>32600.000000</td>\n",
       "      <td>33000.000000</td>\n",
       "      <td>32260.000000</td>\n",
       "      <td>32800.000000</td>\n",
       "      <td>27715.035156</td>\n",
       "      <td>2.707130e+07</td>\n",
       "    </tr>\n",
       "    <tr>\n",
       "      <th>max</th>\n",
       "      <td>90300.000000</td>\n",
       "      <td>96800.000000</td>\n",
       "      <td>89500.000000</td>\n",
       "      <td>91000.000000</td>\n",
       "      <td>88367.843750</td>\n",
       "      <td>1.642150e+08</td>\n",
       "    </tr>\n",
       "  </tbody>\n",
       "</table>\n",
       "</div>"
      ],
      "text/plain": [
       "               Open          High           Low         Close     Adj Close  \\\n",
       "count   5679.000000   5679.000000   5679.000000   5679.000000   5679.000000   \n",
       "mean   25254.560662  25508.304279  24995.018489  25249.191759  21998.820920   \n",
       "std    20337.294251  20504.080838  20162.234586  20321.946783  19918.218092   \n",
       "min     2540.000000   2760.000000   2420.000000   2730.000000   2065.804443   \n",
       "25%    10220.000000  10380.000000  10080.000000  10250.000000   7824.330078   \n",
       "50%    16900.000000  17020.000000  16620.000000  16880.000000  13460.038086   \n",
       "75%    32600.000000  33000.000000  32260.000000  32800.000000  27715.035156   \n",
       "max    90300.000000  96800.000000  89500.000000  91000.000000  88367.843750   \n",
       "\n",
       "             Volume  \n",
       "count  5.679000e+03  \n",
       "mean   2.171192e+07  \n",
       "std    1.539307e+07  \n",
       "min    0.000000e+00  \n",
       "25%    1.179838e+07  \n",
       "50%    1.770370e+07  \n",
       "75%    2.707130e+07  \n",
       "max    1.642150e+08  "
      ]
     },
     "execution_count": 27,
     "metadata": {},
     "output_type": "execute_result"
    }
   ],
   "source": [
    "sec.describe()"
   ]
  },
  {
   "cell_type": "code",
   "execution_count": 28,
   "metadata": {},
   "outputs": [
    {
     "data": {
      "text/plain": [
       "count    5679.000000\n",
       "mean        0.064778\n",
       "std         2.205296\n",
       "min       -14.920635\n",
       "25%        -1.072961\n",
       "50%         0.000000\n",
       "75%         1.158921\n",
       "max        15.000000\n",
       "Name: Close, dtype: float64"
      ]
     },
     "execution_count": 28,
     "metadata": {},
     "output_type": "execute_result"
    }
   ],
   "source": [
    "sec_dpc.describe()"
   ]
  },
  {
   "cell_type": "code",
   "execution_count": 29,
   "metadata": {},
   "outputs": [
    {
     "data": {
      "text/plain": [
       "count    1227.000000\n",
       "mean        0.091315\n",
       "std         4.970330\n",
       "min       -23.582611\n",
       "25%        -0.932932\n",
       "50%         0.000000\n",
       "75%         0.822782\n",
       "max        38.872335\n",
       "Name: Close, dtype: float64"
      ]
     },
     "execution_count": 29,
     "metadata": {},
     "output_type": "execute_result"
    }
   ],
   "source": [
    "spce_dpc.describe()"
   ]
  },
  {
   "cell_type": "code",
   "execution_count": 30,
   "metadata": {},
   "outputs": [
    {
     "data": {
      "text/plain": [
       "Date\n",
       "2000-01-04      0.000000\n",
       "2000-01-05     -8.674304\n",
       "2000-01-06     -8.019640\n",
       "2000-01-07     -9.328969\n",
       "2000-01-10     -5.564648\n",
       "                 ...    \n",
       "2022-08-09    881.996727\n",
       "2022-08-10    867.266776\n",
       "2022-08-11    880.360065\n",
       "2022-08-12    885.270049\n",
       "2022-08-16    898.363339\n",
       "Name: Close, Length: 5679, dtype: float64"
      ]
     },
     "execution_count": 30,
     "metadata": {},
     "output_type": "execute_result"
    }
   ],
   "source": [
    "sec_dpc_cp = ((100 + sec_dpc) / 100).cumprod() * 100 - 100\n",
    "sec_dpc_cp"
   ]
  },
  {
   "cell_type": "code",
   "execution_count": 32,
   "metadata": {},
   "outputs": [
    {
     "data": {
      "image/png": "[encoded data removed]",
      "text/plain": [
       "<Figure size 432x288 with 1 Axes>"
      ]
     },
     "metadata": {
      "needs_background": "light"
     },
     "output_type": "display_data"
    }
   ],
   "source": [
    "spce_dpc_cp = ((100 + spce_dpc) / 100).cumprod() * 100 - 100\n",
    "\n",
    "plt.plot(sec.index, sec_dpc_cp, 'b', label='Samsung')\n",
    "plt.plot(spce.index, spce_dpc_cp, 'r--', label='SPCE')\n",
    "plt.ylabel(\"Change %\")\n",
    "plt.grid(True)\n",
    "plt.legend(loc='best')\n",
    "plt.show()"
   ]
  },
  {
   "cell_type": "code",
   "execution_count": null,
   "metadata": {},
   "outputs": [],
   "source": []
  }
 ],
 "metadata": {
  "kernelspec": {
   "display_name": "Python 3.9.12 64-bit ('py39')",
   "language": "python",
   "name": "python3"
  },
  "language_info": {
   "codemirror_mode": {
    "name": "ipython",
    "version": 3
   },
   "file_extension": ".py",
   "mimetype": "text/x-python",
   "name": "python",
   "nbconvert_exporter": "python",
   "pygments_lexer": "ipython3",
   "version": "3.9.12"
  },
  "orig_nbformat": 4,
  "vscode": {
   "interpreter": {
    "hash": "9784e81e404edf4d0536ccf7e06d167bb8edc7bd4e5f9b4f5b161ab7c55faa7c"
   }
  }
 },
 "nbformat": 4,
 "nbformat_minor": 2
}
