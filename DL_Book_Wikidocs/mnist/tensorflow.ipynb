{
 "cells": [
  {
   "cell_type": "code",
   "execution_count": 1,
   "metadata": {},
   "outputs": [
    {
     "name": "stdout",
     "output_type": "stream",
     "text": [
      "Init Plugin\n",
      "Init Graph Optimizer\n",
      "Init Kernel\n"
     ]
    }
   ],
   "source": [
    "'''\n",
    "1. Import Libraries for Data Engineering\n",
    "'''\n",
    "import numpy as np\n",
    "import tensorflow as tf\n",
    "from sklearn.model_selection import train_test_split"
   ]
  },
  {
   "cell_type": "code",
   "execution_count": 2,
   "id": "280cccb9",
   "metadata": {},
   "outputs": [],
   "source": [
    "'''\n",
    "2. Load MNIST data\n",
    "'''\n",
    "mnist = tf.keras.datasets.mnist\n",
    "(X_train, Y_train), (X_test, Y_test) = mnist.load_data()"
   ]
  },
  {
   "cell_type": "code",
   "execution_count": 3,
   "id": "5b7c23c9",
   "metadata": {},
   "outputs": [],
   "source": [
    "'''\n",
    "3. Split data\n",
    "'''\n",
    "X_train, x_val, Y_train, t_val = train_test_split(X_train, Y_train, test_size=0.2)"
   ]
  },
  {
   "cell_type": "code",
   "execution_count": 4,
   "id": "1ed3c54b",
   "metadata": {},
   "outputs": [],
   "source": [
    "'''\n",
    "4. Data Preprocessing\n",
    "'''\n",
    "X_train = (X_train.reshape(-1, 784) / 255).astype(np.float32)\n",
    "X_test  = (X_test.reshape(-1, 784) / 255).astype(np.float32)\n",
    "x_val   = (x_val.reshape(-1, 784) / 255).astype(np.float32)\n",
    "Y_train = np.eye(10)[Y_train].astype(np.float32)\n",
    "Y_test  = np.eye(10)[Y_test].astype(np.float32)\n",
    "t_val   = np.eye(10)[t_val].astype(np.float32)"
   ]
  },
  {
   "cell_type": "code",
   "execution_count": 11,
   "id": "43463d06",
   "metadata": {},
   "outputs": [],
   "source": [
    "'''\n",
    "5. Import Libraries for Model Engineering\n",
    "'''\n",
    "\n",
    "import numpy as np\n",
    "import tensorflow as tf\n",
    "from tensorflow.keras.models import Model\n",
    "from tensorflow.keras.layers import Dense\n",
    "from tensorflow.keras import optimizers\n",
    "from tensorflow.keras import losses\n",
    "from tensorflow.keras import metrics\n",
    "\n",
    "np.random.seed(123)\n",
    "tf.random.set_seed(123)"
   ]
  },
  {
   "cell_type": "code",
   "execution_count": 12,
   "id": "f1b6ee38",
   "metadata": {},
   "outputs": [],
   "source": [
    "'''\n",
    "6. Set Hyperparameters\n",
    "'''\n",
    "\n",
    "hidden_size = 200\n",
    "output_dim = 10  # output layer dimensionality\n",
    "EPOCHS = 30\n",
    "batch_size = 100\n",
    "learning_rate = 5e-4"
   ]
  },
  {
   "cell_type": "code",
   "execution_count": 13,
   "id": "66742894",
   "metadata": {},
   "outputs": [],
   "source": [
    "class Feed_Forward_Net(Model):\n",
    "    def __init__(self, hidden_size, output_dim):\n",
    "        super().__init__()\n",
    "        self.l1 = Dense(hidden_size, activation='sigmoid')\n",
    "        self.l2 = Dense(hidden_size, activation='sigmoid')\n",
    "        self.l3 = Dense(hidden_size, activation='sigmoid')\n",
    "        self.l4 = Dense(output_dim, activation='softmax')\n",
    "        \n",
    "    def call(self, x):\n",
    "        h1 = self.l1(x)\n",
    "        h2 = self.l2(h1)\n",
    "        h3 = self.l3(h2)\n",
    "        y = self.l4(h3)\n",
    "        return y\n",
    "    "
   ]
  },
  {
   "cell_type": "code",
   "execution_count": 14,
   "id": "2526a94d",
   "metadata": {},
   "outputs": [],
   "source": [
    "model = Feed_Forward_Net(hidden_size, output_dim)\n"
   ]
  },
  {
   "cell_type": "code",
   "execution_count": 15,
   "id": "9b77d0e4",
   "metadata": {},
   "outputs": [],
   "source": [
    "optimizer = optimizers.Adam(learning_rate=learning_rate)"
   ]
  },
  {
   "cell_type": "code",
   "execution_count": 16,
   "id": "c182232b",
   "metadata": {},
   "outputs": [],
   "source": [
    "criterion = losses.CategoricalCrossentropy()"
   ]
  },
  {
   "cell_type": "code",
   "execution_count": 17,
   "id": "207d9ee0",
   "metadata": {},
   "outputs": [],
   "source": [
    "train_loss = metrics.Mean()\n",
    "train_acc = metrics.CategoricalAccuracy()"
   ]
  },
  {
   "cell_type": "code",
   "execution_count": 18,
   "id": "708ad9ec",
   "metadata": {},
   "outputs": [],
   "source": [
    "def compute_loss(t, y):\n",
    "    return criterion(t, y)"
   ]
  },
  {
   "cell_type": "code",
   "execution_count": 19,
   "id": "c9696696",
   "metadata": {},
   "outputs": [],
   "source": [
    "def train_step(x, t):\n",
    "    with tf.GradientTape() as tape:\n",
    "        preds = model(x)\n",
    "        loss = compute_loss(t, preds)\n",
    "    grads = tape.gradient(loss, model.trainable_variables)\n",
    "    optimizer.apply_gradients(zip(grads, model.trainable_variables))\n",
    "    train_loss(loss)\n",
    "    train_acc(t, preds)\n",
    "    return loss"
   ]
  },
  {
   "cell_type": "code",
   "execution_count": 20,
   "id": "6f7aa369",
   "metadata": {},
   "outputs": [],
   "source": [
    "def test_step(x, t):\n",
    "    preds = model(x)\n",
    "    loss = compute_loss(t, preds)\n",
    "    test_loss(loss)\n",
    "    test_acc(t, preds)\n",
    "    return loss"
   ]
  },
  {
   "cell_type": "code",
   "execution_count": 21,
   "id": "e8808d51",
   "metadata": {},
   "outputs": [],
   "source": [
    "n_batches = X_train.shape[0] // batch_size\n"
   ]
  },
  {
   "cell_type": "code",
   "execution_count": 23,
   "id": "ebc117ce",
   "metadata": {},
   "outputs": [
    {
     "name": "stdout",
     "output_type": "stream",
     "text": [
      "Epoch : 1, Loss : 1.008, Acc : 0.716\n",
      "Epoch : 2, Loss : 0.664, Acc : 0.812\n",
      "Epoch : 3, Loss : 0.523, Acc : 0.851\n",
      "Epoch : 4, Loss : 0.442, Acc : 0.874\n",
      "Epoch : 5, Loss : 0.387, Acc : 0.889\n",
      "Epoch : 6, Loss : 0.346, Acc : 0.901\n",
      "Epoch : 7, Loss : 0.314, Acc : 0.910\n",
      "Epoch : 8, Loss : 0.288, Acc : 0.917\n",
      "Epoch : 9, Loss : 0.267, Acc : 0.923\n",
      "Epoch : 10, Loss : 0.248, Acc : 0.929\n",
      "Epoch : 11, Loss : 0.232, Acc : 0.933\n",
      "Epoch : 12, Loss : 0.218, Acc : 0.937\n",
      "Epoch : 13, Loss : 0.206, Acc : 0.941\n",
      "Epoch : 14, Loss : 0.195, Acc : 0.944\n",
      "Epoch : 15, Loss : 0.185, Acc : 0.947\n",
      "Epoch : 16, Loss : 0.175, Acc : 0.949\n",
      "Epoch : 17, Loss : 0.167, Acc : 0.952\n",
      "Epoch : 18, Loss : 0.159, Acc : 0.954\n",
      "Epoch : 19, Loss : 0.152, Acc : 0.956\n",
      "Epoch : 20, Loss : 0.146, Acc : 0.958\n",
      "Epoch : 21, Loss : 0.140, Acc : 0.960\n",
      "Epoch : 22, Loss : 0.134, Acc : 0.961\n",
      "Epoch : 23, Loss : 0.129, Acc : 0.963\n",
      "Epoch : 24, Loss : 0.124, Acc : 0.964\n",
      "Epoch : 25, Loss : 0.120, Acc : 0.966\n",
      "Epoch : 26, Loss : 0.116, Acc : 0.967\n",
      "Epoch : 27, Loss : 0.112, Acc : 0.968\n",
      "Epoch : 28, Loss : 0.108, Acc : 0.969\n",
      "Epoch : 29, Loss : 0.104, Acc : 0.970\n",
      "Epoch : 30, Loss : 0.101, Acc : 0.971\n"
     ]
    }
   ],
   "source": [
    "from sklearn.utils import shuffle\n",
    "\n",
    "for epoch in range(EPOCHS):\n",
    "    x_, t_ = shuffle(X_train, Y_train)\n",
    "    \n",
    "    for batch in range(n_batches):\n",
    "        start = batch * batch_size\n",
    "        end = start + batch_size\n",
    "        train_step(x_[start:end], t_[start:end])\n",
    "        \n",
    "    print('Epoch : {}, Loss : {:.3f}, Acc : {:.3f}'.format(epoch+1, train_loss.result(), train_acc.result()))"
   ]
  },
  {
   "cell_type": "code",
   "execution_count": 24,
   "id": "d1fb6db7",
   "metadata": {},
   "outputs": [],
   "source": [
    "test_loss = metrics.Mean()\n",
    "test_acc = metrics.CategoricalAccuracy()"
   ]
  },
  {
   "cell_type": "code",
   "execution_count": 25,
   "id": "1bc59627",
   "metadata": {},
   "outputs": [
    {
     "name": "stdout",
     "output_type": "stream",
     "text": [
      "Test Loss : 0.101, Test Acc : 0.976\n"
     ]
    }
   ],
   "source": [
    "test_step(X_test, Y_test)\n",
    "\n",
    "print('Test Loss : {:.3f}, Test Acc : {:.3f}'.format(test_loss.result(), test_acc.result()))"
   ]
  }
 ],
 "metadata": {
  "kernelspec": {
   "display_name": "dl",
   "language": "python",
   "name": "python3"
  },
  "language_info": {
   "codemirror_mode": {
    "name": "ipython",
    "version": 3
   },
   "file_extension": ".py",
   "mimetype": "text/x-python",
   "name": "python",
   "nbconvert_exporter": "python",
   "pygments_lexer": "ipython3",
   "version": "3.8.15 | packaged by conda-forge | (default, Nov 22 2022, 08:52:09) \n[Clang 14.0.6 ]"
  },
  "vscode": {
   "interpreter": {
    "hash": "ae11f5d3ac809752eb6a9669be0098e4697ef72cf679319537a3e481be772aa1"
   }
  }
 },
 "nbformat": 4,
 "nbformat_minor": 5
}
