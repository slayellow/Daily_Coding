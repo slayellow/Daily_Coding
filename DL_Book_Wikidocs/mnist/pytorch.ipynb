{
 "cells": [
  {
   "cell_type": "code",
   "execution_count": 1,
   "metadata": {},
   "outputs": [],
   "source": [
    "'''\n",
    "1. Import Libraries for Data Engineering\n",
    "'''\n",
    "\n",
    "import os\n",
    "import torch\n",
    "import torchvision\n",
    "from torchvision import datasets\n",
    "import torchvision.transforms as transforms"
   ]
  },
  {
   "cell_type": "code",
   "execution_count": 2,
   "id": "7bf5c79d",
   "metadata": {},
   "outputs": [],
   "source": [
    "root = os.path.join('~', '.torch', 'mnist')\n",
    "transform = transforms.Compose([transforms.ToTensor(), lambda x: x.view(-1)])"
   ]
  },
  {
   "cell_type": "code",
   "execution_count": 3,
   "id": "f3f4b561",
   "metadata": {},
   "outputs": [
    {
     "name": "stdout",
     "output_type": "stream",
     "text": [
      "Downloading http://yann.lecun.com/exdb/mnist/train-images-idx3-ubyte.gz\n",
      "Downloading http://yann.lecun.com/exdb/mnist/train-images-idx3-ubyte.gz to /Users/hongjinseog/.torch/mnist/MNIST/raw/train-images-idx3-ubyte.gz\n"
     ]
    },
    {
     "name": "stderr",
     "output_type": "stream",
     "text": [
      "100.0%\n"
     ]
    },
    {
     "name": "stdout",
     "output_type": "stream",
     "text": [
      "Extracting /Users/hongjinseog/.torch/mnist/MNIST/raw/train-images-idx3-ubyte.gz to /Users/hongjinseog/.torch/mnist/MNIST/raw\n",
      "\n",
      "Downloading http://yann.lecun.com/exdb/mnist/train-labels-idx1-ubyte.gz\n",
      "Downloading http://yann.lecun.com/exdb/mnist/train-labels-idx1-ubyte.gz to /Users/hongjinseog/.torch/mnist/MNIST/raw/train-labels-idx1-ubyte.gz\n"
     ]
    },
    {
     "name": "stderr",
     "output_type": "stream",
     "text": [
      "100.0%\n"
     ]
    },
    {
     "name": "stdout",
     "output_type": "stream",
     "text": [
      "Extracting /Users/hongjinseog/.torch/mnist/MNIST/raw/train-labels-idx1-ubyte.gz to /Users/hongjinseog/.torch/mnist/MNIST/raw\n",
      "\n",
      "Downloading http://yann.lecun.com/exdb/mnist/t10k-images-idx3-ubyte.gz\n"
     ]
    },
    {
     "name": "stderr",
     "output_type": "stream",
     "text": [
      "6.0%"
     ]
    },
    {
     "name": "stdout",
     "output_type": "stream",
     "text": [
      "Downloading http://yann.lecun.com/exdb/mnist/t10k-images-idx3-ubyte.gz to /Users/hongjinseog/.torch/mnist/MNIST/raw/t10k-images-idx3-ubyte.gz\n"
     ]
    },
    {
     "name": "stderr",
     "output_type": "stream",
     "text": [
      "100.0%\n"
     ]
    },
    {
     "name": "stdout",
     "output_type": "stream",
     "text": [
      "Extracting /Users/hongjinseog/.torch/mnist/MNIST/raw/t10k-images-idx3-ubyte.gz to /Users/hongjinseog/.torch/mnist/MNIST/raw\n",
      "\n",
      "Downloading http://yann.lecun.com/exdb/mnist/t10k-labels-idx1-ubyte.gz\n"
     ]
    },
    {
     "name": "stderr",
     "output_type": "stream",
     "text": [
      "100.0%"
     ]
    },
    {
     "name": "stdout",
     "output_type": "stream",
     "text": [
      "Downloading http://yann.lecun.com/exdb/mnist/t10k-labels-idx1-ubyte.gz to /Users/hongjinseog/.torch/mnist/MNIST/raw/t10k-labels-idx1-ubyte.gz\n",
      "Extracting /Users/hongjinseog/.torch/mnist/MNIST/raw/t10k-labels-idx1-ubyte.gz to /Users/hongjinseog/.torch/mnist/MNIST/raw\n",
      "\n"
     ]
    },
    {
     "name": "stderr",
     "output_type": "stream",
     "text": [
      "\n"
     ]
    }
   ],
   "source": [
    "train_dataset = datasets.MNIST(root=root, download=True, train=True, transform=transform)\n",
    "test_dataset = datasets.MNIST(root=root, download=True, train=False, transform=transform)"
   ]
  },
  {
   "cell_type": "code",
   "execution_count": 4,
   "id": "b35f5f79",
   "metadata": {},
   "outputs": [
    {
     "data": {
      "text/plain": [
       "<torch._C.Generator at 0x105b19f90>"
      ]
     },
     "execution_count": 4,
     "metadata": {},
     "output_type": "execute_result"
    }
   ],
   "source": [
    "'''\n",
    "3. Import Libraries for Model Engineering\n",
    "'''\n",
    "\n",
    "from sklearn.metrics import accuracy_score\n",
    "import torch.nn as nn\n",
    "import torch.optim as optimizers\n",
    "\n",
    "import numpy as np\n",
    "\n",
    "np.random.seed(123)\n",
    "torch.manual_seed(123)"
   ]
  },
  {
   "cell_type": "code",
   "execution_count": 5,
   "id": "b994a08d",
   "metadata": {},
   "outputs": [],
   "source": [
    "device = torch.device('cuda' if torch.cuda.is_available() else 'cpu')"
   ]
  },
  {
   "cell_type": "code",
   "execution_count": 6,
   "id": "8a4611dd",
   "metadata": {},
   "outputs": [
    {
     "data": {
      "text/plain": [
       "device(type='cpu')"
      ]
     },
     "execution_count": 6,
     "metadata": {},
     "output_type": "execute_result"
    }
   ],
   "source": [
    "device"
   ]
  },
  {
   "cell_type": "code",
   "execution_count": 7,
   "id": "56d24e72",
   "metadata": {},
   "outputs": [],
   "source": [
    "'''\n",
    "4. Set Hyperparameters\n",
    "'''\n",
    "input_size = 784 # 28x28\n",
    "hidden_size = 200\n",
    "output_dim = 10  # output layer dimensionality\n",
    "EPOCHS = 30\n",
    "batch_size = 100\n",
    "learning_rate = 5e-4"
   ]
  },
  {
   "cell_type": "code",
   "execution_count": 8,
   "id": "b969e8ad",
   "metadata": {},
   "outputs": [],
   "source": [
    "train_ds = torch.utils.data.DataLoader(dataset=train_dataset, batch_size=batch_size, shuffle=True)\n",
    "test_ds = torch.utils.data.DataLoader(dataset=test_dataset, batch_size=batch_size, shuffle=False)"
   ]
  },
  {
   "cell_type": "code",
   "execution_count": 9,
   "id": "dba717b3",
   "metadata": {},
   "outputs": [],
   "source": [
    "class Feed_Forward_Net(nn.Module):\n",
    "    def __init__(self, input_size, hidden_size, output_dim):\n",
    "        super().__init__()\n",
    "        self.l1 = nn.Linear(input_size, hidden_size)\n",
    "        self.a1 = nn.Sigmoid()\n",
    "        self.l2 = nn.Linear(hidden_size, hidden_size)\n",
    "        self.a2 = nn.Sigmoid()\n",
    "        self.l3 = nn.Linear(hidden_size, hidden_size)\n",
    "        self.a3 = nn.Sigmoid()\n",
    "        self.l4 = nn.Linear(hidden_size, output_dim)\n",
    "        \n",
    "        self.layers = [self.l1, self.a1, self.l2, self.a2, self.l3, self.a3, self.l4]\n",
    "        \n",
    "    def forward(self, x):\n",
    "        for layer in self.layers:\n",
    "            x = layer(x)\n",
    "        return x"
   ]
  },
  {
   "cell_type": "code",
   "execution_count": 10,
   "id": "21d9ad2a",
   "metadata": {},
   "outputs": [],
   "source": [
    "model = Feed_Forward_Net(input_size=input_size, hidden_size=hidden_size, output_dim=output_dim).to(device)"
   ]
  },
  {
   "cell_type": "code",
   "execution_count": 11,
   "id": "2580cb7d",
   "metadata": {},
   "outputs": [],
   "source": [
    "optimizer = torch.optim.Adam(model.parameters(), lr=0.01)"
   ]
  },
  {
   "cell_type": "code",
   "execution_count": 12,
   "id": "beed369a",
   "metadata": {},
   "outputs": [],
   "source": [
    "criterion = nn.CrossEntropyLoss()"
   ]
  },
  {
   "cell_type": "code",
   "execution_count": 13,
   "id": "0063eead",
   "metadata": {},
   "outputs": [],
   "source": [
    "def compute_loss(t, y):\n",
    "    return criterion(y, t)"
   ]
  },
  {
   "cell_type": "code",
   "execution_count": 14,
   "id": "88b6fb20",
   "metadata": {},
   "outputs": [],
   "source": [
    "def train_step(x, t):\n",
    "    model.train()\n",
    "    preds = model(x)\n",
    "    loss = compute_loss(t, preds)\n",
    "    optimizer.zero_grad()\n",
    "    loss.backward()\n",
    "    optimizer.step()\n",
    "    \n",
    "    return loss, preds"
   ]
  },
  {
   "cell_type": "code",
   "execution_count": 15,
   "id": "c9b1895f",
   "metadata": {},
   "outputs": [],
   "source": [
    "def test_step(x, t):\n",
    "    model.eval()\n",
    "    preds = model(x)\n",
    "    loss = compute_loss(t, preds)\n",
    "    return loss, preds"
   ]
  },
  {
   "cell_type": "code",
   "execution_count": 18,
   "id": "c864c028",
   "metadata": {},
   "outputs": [
    {
     "name": "stdout",
     "output_type": "stream",
     "text": [
      "Epoch : 1, Loss : 0.087, Acc : 0.975\n",
      "Epoch : 2, Loss : 0.075, Acc : 0.977\n",
      "Epoch : 3, Loss : 0.064, Acc : 0.980\n",
      "Epoch : 4, Loss : 0.059, Acc : 0.982\n",
      "Epoch : 5, Loss : 0.050, Acc : 0.984\n",
      "Epoch : 6, Loss : 0.049, Acc : 0.985\n",
      "Epoch : 7, Loss : 0.048, Acc : 0.985\n",
      "Epoch : 8, Loss : 0.043, Acc : 0.986\n",
      "Epoch : 9, Loss : 0.037, Acc : 0.988\n",
      "Epoch : 10, Loss : 0.035, Acc : 0.989\n",
      "Epoch : 11, Loss : 0.039, Acc : 0.988\n",
      "Epoch : 12, Loss : 0.038, Acc : 0.988\n",
      "Epoch : 13, Loss : 0.037, Acc : 0.988\n",
      "Epoch : 14, Loss : 0.034, Acc : 0.989\n",
      "Epoch : 15, Loss : 0.036, Acc : 0.988\n",
      "Epoch : 16, Loss : 0.035, Acc : 0.989\n",
      "Epoch : 17, Loss : 0.033, Acc : 0.990\n",
      "Epoch : 18, Loss : 0.033, Acc : 0.989\n",
      "Epoch : 19, Loss : 0.033, Acc : 0.990\n",
      "Epoch : 20, Loss : 0.032, Acc : 0.990\n",
      "Epoch : 21, Loss : 0.031, Acc : 0.990\n",
      "Epoch : 22, Loss : 0.031, Acc : 0.990\n",
      "Epoch : 23, Loss : 0.028, Acc : 0.991\n",
      "Epoch : 24, Loss : 0.026, Acc : 0.992\n",
      "Epoch : 25, Loss : 0.025, Acc : 0.992\n",
      "Epoch : 26, Loss : 0.025, Acc : 0.992\n",
      "Epoch : 27, Loss : 0.025, Acc : 0.992\n",
      "Epoch : 28, Loss : 0.027, Acc : 0.991\n",
      "Epoch : 29, Loss : 0.025, Acc : 0.993\n",
      "Epoch : 30, Loss : 0.024, Acc : 0.992\n"
     ]
    }
   ],
   "source": [
    "for epoch in range(EPOCHS):\n",
    "    train_loss = 0.\n",
    "    train_acc = 0.\n",
    "    \n",
    "    for (x, t) in train_ds:\n",
    "        x, t = x.to(device), t.to(device)\n",
    "        loss, preds = train_step(x, t)\n",
    "        train_loss += loss.item()\n",
    "        train_acc += accuracy_score(t.tolist(), preds.argmax(dim=-1).tolist())\n",
    "        \n",
    "    train_loss /= len(train_ds)\n",
    "    train_acc /= len(train_ds)\n",
    "    \n",
    "    print(\"Epoch : {}, Loss : {:.3f}, Acc : {:.3f}\".format(epoch+1, train_loss, train_acc))"
   ]
  },
  {
   "cell_type": "code",
   "execution_count": 19,
   "id": "9d38809f",
   "metadata": {},
   "outputs": [
    {
     "name": "stdout",
     "output_type": "stream",
     "text": [
      "test_loss : 0.114, test_acc : 0.974\n"
     ]
    }
   ],
   "source": [
    "test_loss = 0.\n",
    "test_acc = 0.\n",
    "\n",
    "for (x, t) in test_ds:\n",
    "    x, t = x.to(device), t.to(device)\n",
    "    loss, preds = test_step(x, t)\n",
    "    test_loss += loss.item()\n",
    "    test_acc += accuracy_score(t.tolist(), preds.argmax(dim=-1).tolist())\n",
    "    \n",
    "test_loss /= len(test_ds)\n",
    "test_acc /= len(test_ds)\n",
    "\n",
    "print('test_loss : {:.3f}, test_acc : {:.3f}'.format(test_loss, test_acc))\n"
   ]
  },
  {
   "cell_type": "code",
   "execution_count": null,
   "id": "7a7050b5",
   "metadata": {},
   "outputs": [],
   "source": []
  }
 ],
 "metadata": {
  "kernelspec": {
   "display_name": "dl",
   "language": "python",
   "name": "python3"
  },
  "language_info": {
   "codemirror_mode": {
    "name": "ipython",
    "version": 3
   },
   "file_extension": ".py",
   "mimetype": "text/x-python",
   "name": "python",
   "nbconvert_exporter": "python",
   "pygments_lexer": "ipython3",
   "version": "3.8.15 | packaged by conda-forge | (default, Nov 22 2022, 08:52:09) \n[Clang 14.0.6 ]"
  },
  "vscode": {
   "interpreter": {
    "hash": "ae11f5d3ac809752eb6a9669be0098e4697ef72cf679319537a3e481be772aa1"
   }
  }
 },
 "nbformat": 4,
 "nbformat_minor": 5
}
