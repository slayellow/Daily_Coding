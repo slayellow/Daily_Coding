{
 "cells": [
  {
   "cell_type": "code",
   "execution_count": 1,
   "metadata": {},
   "outputs": [
    {
     "name": "stdout",
     "output_type": "stream",
     "text": [
      "Init Plugin\n",
      "Init Graph Optimizer\n",
      "Init Kernel\n"
     ]
    }
   ],
   "source": [
    "import numpy as np\n",
    "import tensorflow as tf\n",
    "from sklearn.model_selection import train_test_split"
   ]
  },
  {
   "cell_type": "code",
   "execution_count": 20,
   "metadata": {},
   "outputs": [],
   "source": [
    "mnist = tf.keras.datasets.mnist\n",
    "(X_train, Y_train), (X_test, Y_test) = mnist.load_data()"
   ]
  },
  {
   "cell_type": "code",
   "execution_count": 21,
   "metadata": {},
   "outputs": [
    {
     "data": {
      "text/plain": [
       "(60000, 28, 28)"
      ]
     },
     "execution_count": 21,
     "metadata": {},
     "output_type": "execute_result"
    }
   ],
   "source": [
    "X_train.shape"
   ]
  },
  {
   "cell_type": "code",
   "execution_count": 22,
   "metadata": {},
   "outputs": [],
   "source": [
    "X_train, x_val, Y_train, t_val = train_test_split(X_train, Y_train, test_size=0.2)"
   ]
  },
  {
   "cell_type": "code",
   "execution_count": 23,
   "metadata": {},
   "outputs": [],
   "source": [
    "X_train = (X_train.reshape(-1, 784) / 255).astype(np.float32)\n",
    "X_test = (X_test.reshape(-1, 784) / 255).astype(np.float32)\n",
    "x_val = (x_val.reshape(-1, 784) / 255).astype(np.float32)\n",
    "\n",
    "Y_train = np.eye(10)[Y_train].astype(np.float32)\n",
    "Y_test = np.eye(10)[Y_test].astype(np.float32)\n",
    "t_val = np.eye(10)[t_val].astype(np.float32)"
   ]
  },
  {
   "cell_type": "code",
   "execution_count": 24,
   "metadata": {},
   "outputs": [],
   "source": [
    "import numpy as np\n",
    "import tensorflow as tf\n",
    "from tensorflow.keras.models import Model\n",
    "from tensorflow.keras.layers import Dense\n",
    "from tensorflow.keras import optimizers"
   ]
  },
  {
   "cell_type": "code",
   "execution_count": 25,
   "metadata": {},
   "outputs": [],
   "source": [
    "np.random.seed(123)\n",
    "tf.random.set_seed(123)"
   ]
  },
  {
   "cell_type": "code",
   "execution_count": 26,
   "metadata": {},
   "outputs": [],
   "source": [
    "hidden_size = 200\n",
    "output_dim = 10\n",
    "EPOCHS = 30\n",
    "batch_size = 100\n",
    "learning_rate = 5e-4"
   ]
  },
  {
   "cell_type": "code",
   "execution_count": 27,
   "metadata": {},
   "outputs": [],
   "source": [
    "class Feed_Forward_Net(Model):\n",
    "    def __init__(self, hidden_size, output_dim):\n",
    "        super().__init__()\n",
    "        self.l1 = Dense(hidden_size, activation='sigmoid')\n",
    "        self.l2 = Dense(hidden_size, activation='sigmoid')\n",
    "        self.l3 = Dense(hidden_size, activation='sigmoid')\n",
    "        self.l4 = Dense(output_dim, activation='softmax')\n",
    "        \n",
    "    def call(self, x):\n",
    "        h1 = self.l1(x)\n",
    "        h2 = self.l2(h1)\n",
    "        h3 = self.l3(h2)\n",
    "        y = self.l4(h3)\n",
    "        \n",
    "        return y\n",
    "    "
   ]
  },
  {
   "cell_type": "code",
   "execution_count": 28,
   "metadata": {},
   "outputs": [],
   "source": [
    "model = Feed_Forward_Net(hidden_size, output_dim)"
   ]
  },
  {
   "cell_type": "code",
   "execution_count": 33,
   "metadata": {},
   "outputs": [],
   "source": [
    "optimizer = optimizers.SGD(learning_rate=learning_rate)"
   ]
  },
  {
   "cell_type": "code",
   "execution_count": 34,
   "metadata": {},
   "outputs": [],
   "source": [
    "optimizer = optimizers.Adam(learning_rate=learning_rate)"
   ]
  },
  {
   "cell_type": "code",
   "execution_count": 35,
   "metadata": {},
   "outputs": [],
   "source": [
    "model.compile(optimizer=optimizer, loss='categorical_crossentropy', metrics=['accuracy'])"
   ]
  },
  {
   "cell_type": "code",
   "execution_count": 36,
   "metadata": {},
   "outputs": [
    {
     "name": "stdout",
     "output_type": "stream",
     "text": [
      "Epoch 1/30\n"
     ]
    },
    {
     "name": "stderr",
     "output_type": "stream",
     "text": [
      "2022-12-23 21:18:23.045052: I tensorflow/core/grappler/optimizers/custom_graph_optimizer_registry.cc:112] Plugin optimizer for device_type GPU is enabled.\n"
     ]
    },
    {
     "name": "stdout",
     "output_type": "stream",
     "text": [
      "476/480 [============================>.] - ETA: 0s - loss: 0.9713 - accuracy: 0.7232"
     ]
    },
    {
     "name": "stderr",
     "output_type": "stream",
     "text": [
      "2022-12-23 21:18:27.605365: I tensorflow/core/grappler/optimizers/custom_graph_optimizer_registry.cc:112] Plugin optimizer for device_type GPU is enabled.\n"
     ]
    },
    {
     "name": "stdout",
     "output_type": "stream",
     "text": [
      "480/480 [==============================] - 5s 10ms/step - loss: 0.9669 - accuracy: 0.7246 - val_loss: 0.3892 - val_accuracy: 0.8922\n",
      "Epoch 2/30\n",
      "480/480 [==============================] - 5s 10ms/step - loss: 0.3174 - accuracy: 0.9082 - val_loss: 0.2708 - val_accuracy: 0.9196\n",
      "Epoch 3/30\n",
      "480/480 [==============================] - 5s 10ms/step - loss: 0.2411 - accuracy: 0.9288 - val_loss: 0.2209 - val_accuracy: 0.9350\n",
      "Epoch 4/30\n",
      "480/480 [==============================] - 5s 11ms/step - loss: 0.1980 - accuracy: 0.9415 - val_loss: 0.1901 - val_accuracy: 0.9427\n",
      "Epoch 5/30\n",
      "480/480 [==============================] - 5s 10ms/step - loss: 0.1669 - accuracy: 0.9501 - val_loss: 0.1666 - val_accuracy: 0.9508\n",
      "Epoch 6/30\n",
      "480/480 [==============================] - 5s 11ms/step - loss: 0.1435 - accuracy: 0.9574 - val_loss: 0.1501 - val_accuracy: 0.9570\n",
      "Epoch 7/30\n",
      "480/480 [==============================] - 6s 12ms/step - loss: 0.1253 - accuracy: 0.9625 - val_loss: 0.1377 - val_accuracy: 0.9592\n",
      "Epoch 8/30\n",
      "480/480 [==============================] - 5s 10ms/step - loss: 0.1087 - accuracy: 0.9678 - val_loss: 0.1272 - val_accuracy: 0.9640\n",
      "Epoch 9/30\n",
      "480/480 [==============================] - 5s 10ms/step - loss: 0.0958 - accuracy: 0.9724 - val_loss: 0.1136 - val_accuracy: 0.9661\n",
      "Epoch 10/30\n",
      "480/480 [==============================] - 5s 10ms/step - loss: 0.0853 - accuracy: 0.9753 - val_loss: 0.1173 - val_accuracy: 0.9659\n",
      "Epoch 11/30\n",
      "480/480 [==============================] - 5s 10ms/step - loss: 0.0750 - accuracy: 0.9784 - val_loss: 0.1063 - val_accuracy: 0.9696\n",
      "Epoch 12/30\n",
      "480/480 [==============================] - 5s 10ms/step - loss: 0.0673 - accuracy: 0.9802 - val_loss: 0.1001 - val_accuracy: 0.9698\n",
      "Epoch 13/30\n",
      "480/480 [==============================] - 5s 10ms/step - loss: 0.0585 - accuracy: 0.9832 - val_loss: 0.1005 - val_accuracy: 0.9705\n",
      "Epoch 14/30\n",
      "480/480 [==============================] - 5s 11ms/step - loss: 0.0518 - accuracy: 0.9851 - val_loss: 0.0933 - val_accuracy: 0.9727\n",
      "Epoch 15/30\n",
      "480/480 [==============================] - 5s 10ms/step - loss: 0.0461 - accuracy: 0.9870 - val_loss: 0.0908 - val_accuracy: 0.9737\n",
      "Epoch 16/30\n",
      "480/480 [==============================] - 5s 11ms/step - loss: 0.0401 - accuracy: 0.9883 - val_loss: 0.0939 - val_accuracy: 0.9722\n",
      "Epoch 17/30\n",
      "480/480 [==============================] - 5s 10ms/step - loss: 0.0349 - accuracy: 0.9903 - val_loss: 0.0912 - val_accuracy: 0.9732\n",
      "Epoch 18/30\n",
      "480/480 [==============================] - 5s 11ms/step - loss: 0.0307 - accuracy: 0.9912 - val_loss: 0.0909 - val_accuracy: 0.9745\n",
      "Epoch 19/30\n",
      "480/480 [==============================] - 5s 10ms/step - loss: 0.0268 - accuracy: 0.9924 - val_loss: 0.0918 - val_accuracy: 0.9738\n",
      "Epoch 20/30\n",
      "480/480 [==============================] - 5s 10ms/step - loss: 0.0237 - accuracy: 0.9935 - val_loss: 0.0945 - val_accuracy: 0.9731\n",
      "Epoch 21/30\n",
      "480/480 [==============================] - 5s 10ms/step - loss: 0.0199 - accuracy: 0.9948 - val_loss: 0.0910 - val_accuracy: 0.9747\n",
      "Epoch 22/30\n",
      "480/480 [==============================] - 5s 10ms/step - loss: 0.0172 - accuracy: 0.9957 - val_loss: 0.0952 - val_accuracy: 0.9736\n",
      "Epoch 23/30\n",
      "480/480 [==============================] - 5s 10ms/step - loss: 0.0145 - accuracy: 0.9965 - val_loss: 0.0983 - val_accuracy: 0.9732\n",
      "Epoch 24/30\n",
      "480/480 [==============================] - 5s 10ms/step - loss: 0.0131 - accuracy: 0.9965 - val_loss: 0.1023 - val_accuracy: 0.9743\n",
      "Epoch 25/30\n",
      "480/480 [==============================] - 5s 10ms/step - loss: 0.0105 - accuracy: 0.9977 - val_loss: 0.0990 - val_accuracy: 0.9741\n",
      "Epoch 26/30\n",
      "480/480 [==============================] - 5s 10ms/step - loss: 0.0099 - accuracy: 0.9976 - val_loss: 0.0966 - val_accuracy: 0.9760\n",
      "Epoch 27/30\n",
      "480/480 [==============================] - 5s 10ms/step - loss: 0.0085 - accuracy: 0.9981 - val_loss: 0.1003 - val_accuracy: 0.9748\n",
      "Epoch 28/30\n",
      "480/480 [==============================] - 5s 10ms/step - loss: 0.0064 - accuracy: 0.9987 - val_loss: 0.1095 - val_accuracy: 0.9732\n",
      "Epoch 29/30\n",
      "480/480 [==============================] - 5s 10ms/step - loss: 0.0060 - accuracy: 0.9988 - val_loss: 0.1087 - val_accuracy: 0.9753\n",
      "Epoch 30/30\n",
      "480/480 [==============================] - 5s 10ms/step - loss: 0.0061 - accuracy: 0.9986 - val_loss: 0.1046 - val_accuracy: 0.9757\n"
     ]
    },
    {
     "data": {
      "text/plain": [
       "<tensorflow.python.keras.callbacks.History at 0x2b279d8e0>"
      ]
     },
     "execution_count": 36,
     "metadata": {},
     "output_type": "execute_result"
    }
   ],
   "source": [
    "model.fit(X_train, Y_train, epochs=EPOCHS, batch_size=batch_size, validation_data=(x_val, t_val))"
   ]
  },
  {
   "cell_type": "code",
   "execution_count": 37,
   "metadata": {},
   "outputs": [
    {
     "name": "stderr",
     "output_type": "stream",
     "text": [
      "2022-12-23 21:21:58.557906: I tensorflow/core/grappler/optimizers/custom_graph_optimizer_registry.cc:112] Plugin optimizer for device_type GPU is enabled.\n"
     ]
    },
    {
     "name": "stdout",
     "output_type": "stream",
     "text": [
      "Test Loss : 0.101, Test Accuracy : 0.978\n"
     ]
    }
   ],
   "source": [
    "loss, acc = model.evaluate(X_test, Y_test, verbose=0)\n",
    "print('Test Loss : {:.3f}, Test Accuracy : {:.3f}'.format(loss, acc))"
   ]
  },
  {
   "cell_type": "code",
   "execution_count": null,
   "metadata": {},
   "outputs": [],
   "source": []
  }
 ],
 "metadata": {
  "kernelspec": {
   "display_name": "dl",
   "language": "python",
   "name": "python3"
  },
  "language_info": {
   "codemirror_mode": {
    "name": "ipython",
    "version": 3
   },
   "file_extension": ".py",
   "mimetype": "text/x-python",
   "name": "python",
   "nbconvert_exporter": "python",
   "pygments_lexer": "ipython3",
   "version": "3.8.15 | packaged by conda-forge | (default, Nov 22 2022, 08:52:09) \n[Clang 14.0.6 ]"
  },
  "orig_nbformat": 4,
  "vscode": {
   "interpreter": {
    "hash": "ae11f5d3ac809752eb6a9669be0098e4697ef72cf679319537a3e481be772aa1"
   }
  }
 },
 "nbformat": 4,
 "nbformat_minor": 2
}
