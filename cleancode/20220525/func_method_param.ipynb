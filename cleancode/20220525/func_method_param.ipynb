{
 "cells": [
  {
   "cell_type": "markdown",
   "metadata": {},
   "source": [
    "# 함수와 메서드의 인자  \n",
    "\n",
    "\n",
    "## 파이썬의 함수 인자 동작방식  \n",
    "\n",
    "### 인자는 함수에 어떻게 복사되는가?\n",
    "\n",
    "모든 인자가 값에 의해 전달(passed by a value)된다는 것.  \n",
    "-> 함수에 값을 전달하면, 함수의 서명에 있는 변수를 할당하고, 나중에 사용하는 방식\n",
    "-> 인자를 변경하는 함수는 인자의 타입에 따라 다른 결과를 나올 수 있다.\n"
   ]
  },
  {
   "cell_type": "code",
   "execution_count": 1,
   "metadata": {},
   "outputs": [],
   "source": [
    "def function(arg):\n",
    "    arg += \" in function\"\n",
    "    print(arg)\n"
   ]
  },
  {
   "cell_type": "code",
   "execution_count": 2,
   "metadata": {},
   "outputs": [
    {
     "name": "stdout",
     "output_type": "stream",
     "text": [
      "hello in function\n"
     ]
    }
   ],
   "source": [
    "immutable = \"hello\"\n",
    "function(immutable)"
   ]
  },
  {
   "cell_type": "code",
   "execution_count": 3,
   "metadata": {},
   "outputs": [
    {
     "name": "stdout",
     "output_type": "stream",
     "text": [
      "['h', 'e', 'l', 'l', 'o', ' ', 'i', 'n', ' ', 'f', 'u', 'n', 'c', 't', 'i', 'o', 'n']\n"
     ]
    }
   ],
   "source": [
    "mutable = list(\"hello\")\n",
    "function(mutable)"
   ]
  },
  {
   "cell_type": "code",
   "execution_count": 4,
   "metadata": {},
   "outputs": [
    {
     "data": {
      "text/plain": [
       "['h',\n",
       " 'e',\n",
       " 'l',\n",
       " 'l',\n",
       " 'o',\n",
       " ' ',\n",
       " 'i',\n",
       " 'n',\n",
       " ' ',\n",
       " 'f',\n",
       " 'u',\n",
       " 'n',\n",
       " 'c',\n",
       " 't',\n",
       " 'i',\n",
       " 'o',\n",
       " 'n']"
      ]
     },
     "execution_count": 4,
     "metadata": {},
     "output_type": "execute_result"
    }
   ],
   "source": [
    "mutable"
   ]
  },
  {
   "cell_type": "code",
   "execution_count": 5,
   "metadata": {},
   "outputs": [
    {
     "data": {
      "text/plain": [
       "'hello'"
      ]
     },
     "execution_count": 5,
     "metadata": {},
     "output_type": "execute_result"
    }
   ],
   "source": [
    "immutable"
   ]
  },
  {
   "cell_type": "markdown",
   "metadata": {},
   "source": [
    "위 코드의 첫번째 케이스는 문자열을 전달하여 함수의 인자에 할당하고, string 객체는 불변형 타입이므로 arg 변수는 함수 스코프 내의 로컬 변수로 호출자의 원래 변수와는 아무런 관련이 없다.   \n",
    "\n",
    "2번째 케이스는 변형 객체인 리스트를 전달하며, 원래 리스트 객체에 대한 참조를 보유하고 있는 변수를 통해 값을 수정하므로 함수 외부에서도 실제 값을 수정할 수 있다.  \n",
    "-> 예상하지 못한 부작용이 발생할 수 있으므로 주의해야 한다."
   ]
  },
  {
   "cell_type": "markdown",
   "metadata": {},
   "source": [
    "### 가변인자   \n",
    "\n",
    "가변인자를 사용하려면 해당 인자를 패킹할 변수의 이름 앞에 별표(*)를 사용한다. --> 파이썬의 패킹 매커니즘\n",
    "\n",
    "장점 : 다른 방향으로도 동작한다는 것.  \n",
    "\n",
    "부분적인 언패킹도 가능하며, 언패킹하는 순서는 제한이 없다. ( 언패킹할 부분이 없다면 결과는 비어있게 된다. )"
   ]
  },
  {
   "cell_type": "code",
   "execution_count": 8,
   "metadata": {},
   "outputs": [
    {
     "name": "stdout",
     "output_type": "stream",
     "text": [
      "1\n",
      "2\n",
      "3\n"
     ]
    }
   ],
   "source": [
    "def f(first, second, third):\n",
    "    print(first)\n",
    "    print(second)\n",
    "    print(third)\n",
    "\n",
    "\n",
    "l = [1, 2, 3]\n",
    "f(*l)"
   ]
  },
  {
   "cell_type": "code",
   "execution_count": 9,
   "metadata": {},
   "outputs": [
    {
     "data": {
      "text/plain": [
       "3"
      ]
     },
     "execution_count": 9,
     "metadata": {},
     "output_type": "execute_result"
    }
   ],
   "source": [
    "a, b, c = [1, 2, 3]\n",
    "a\n",
    "b\n",
    "c"
   ]
  },
  {
   "cell_type": "code",
   "execution_count": 10,
   "metadata": {},
   "outputs": [
    {
     "data": {
      "text/plain": [
       "1"
      ]
     },
     "execution_count": 10,
     "metadata": {},
     "output_type": "execute_result"
    }
   ],
   "source": [
    "a"
   ]
  },
  {
   "cell_type": "code",
   "execution_count": 12,
   "metadata": {},
   "outputs": [
    {
     "data": {
      "text/plain": [
       "2"
      ]
     },
     "execution_count": 12,
     "metadata": {},
     "output_type": "execute_result"
    }
   ],
   "source": [
    "b"
   ]
  },
  {
   "cell_type": "code",
   "execution_count": 13,
   "metadata": {},
   "outputs": [],
   "source": [
    "def show(e, rest):\n",
    "    print(\"요소: {0} - 나머지: {1}\".format(e, rest))\n",
    "    "
   ]
  },
  {
   "cell_type": "code",
   "execution_count": 14,
   "metadata": {},
   "outputs": [
    {
     "name": "stdout",
     "output_type": "stream",
     "text": [
      "요소: 1 - 나머지: [2, 3, 4, 5]\n"
     ]
    }
   ],
   "source": [
    "first, *rest = [1, 2, 3, 4, 5]\n",
    "show(first, rest)"
   ]
  },
  {
   "cell_type": "code",
   "execution_count": 15,
   "metadata": {},
   "outputs": [
    {
     "name": "stdout",
     "output_type": "stream",
     "text": [
      "요소: 5 - 나머지: [0, 1, 2, 3, 4]\n"
     ]
    }
   ],
   "source": [
    "*rest, last = range(6)\n",
    "show(last, rest)"
   ]
  },
  {
   "cell_type": "code",
   "execution_count": 19,
   "metadata": {},
   "outputs": [
    {
     "data": {
      "text/plain": [
       "0"
      ]
     },
     "execution_count": 19,
     "metadata": {},
     "output_type": "execute_result"
    }
   ],
   "source": [
    "first, *middle, last = range(6)\n",
    "first"
   ]
  },
  {
   "cell_type": "code",
   "execution_count": 20,
   "metadata": {},
   "outputs": [
    {
     "data": {
      "text/plain": [
       "[1, 2, 3, 4]"
      ]
     },
     "execution_count": 20,
     "metadata": {},
     "output_type": "execute_result"
    }
   ],
   "source": [
    "middle"
   ]
  },
  {
   "cell_type": "code",
   "execution_count": 21,
   "metadata": {},
   "outputs": [
    {
     "data": {
      "text/plain": [
       "5"
      ]
     },
     "execution_count": 21,
     "metadata": {},
     "output_type": "execute_result"
    }
   ],
   "source": [
    "last"
   ]
  },
  {
   "cell_type": "code",
   "execution_count": 22,
   "metadata": {},
   "outputs": [],
   "source": [
    "first, last, *empty = (1, 2)"
   ]
  },
  {
   "cell_type": "code",
   "execution_count": 24,
   "metadata": {},
   "outputs": [
    {
     "data": {
      "text/plain": [
       "1"
      ]
     },
     "execution_count": 24,
     "metadata": {},
     "output_type": "execute_result"
    }
   ],
   "source": [
    "first"
   ]
  },
  {
   "cell_type": "code",
   "execution_count": 25,
   "metadata": {},
   "outputs": [
    {
     "data": {
      "text/plain": [
       "2"
      ]
     },
     "execution_count": 25,
     "metadata": {},
     "output_type": "execute_result"
    }
   ],
   "source": [
    "last"
   ]
  },
  {
   "cell_type": "code",
   "execution_count": 26,
   "metadata": {},
   "outputs": [
    {
     "data": {
      "text/plain": [
       "[]"
      ]
     },
     "execution_count": 26,
     "metadata": {},
     "output_type": "execute_result"
    }
   ],
   "source": [
    "empty"
   ]
  },
  {
   "cell_type": "markdown",
   "metadata": {},
   "source": [
    "변수 언패킹의 가장 좋은 예는 반복으로, 일련의 요소를 반복해야 하고 각 요소가 차례로 있다면 각 요소를 반복할 때 언패킹하는 것이 좋다."
   ]
  },
  {
   "cell_type": "code",
   "execution_count": null,
   "metadata": {},
   "outputs": [],
   "source": [
    "USERS = [(i, f\"first_name_{i} \", \"last_name_{i} \") for i in range(1_000)]\n",
    "\n",
    "class User:\n",
    "    def __init__(self, user_id, first_name, last_name):\n",
    "        self.user_id = user_id\n",
    "        self.first_name = first_name\n",
    "        self.last_name = last_name\n",
    "\n",
    "\n",
    "def  bad_users_from_rows(dbrows) -> list:\n",
    "    return [User(row[0], row[1], row[2]) for row in dbrows]\n",
    "\n",
    "\n",
    "def users_from_rows(dbrows) -> list:\n",
    "    return [\n",
    "        User(user_id, first_name, last_name)\n",
    "        for (user_id, first_name, last_name) in dbrows\n",
    "    ]"
   ]
  },
  {
   "cell_type": "markdown",
   "metadata": {},
   "source": [
    "비슷한 표기법으로 이중 별표(**)를 키워드 인자에 사용할 수 있는데, 사전에 이중 별표를 사용하여 함수에 전달하면, 파라메타의 이름으로 키를 사용하고, 파라메타의 값으로 사전의 값을 사용한다."
   ]
  },
  {
   "cell_type": "code",
   "execution_count": 27,
   "metadata": {},
   "outputs": [
    {
     "ename": "TypeError",
     "evalue": "function() got an unexpected keyword argument 'key'",
     "output_type": "error",
     "traceback": [
      "\u001b[0;31m---------------------------------------------------------------------------\u001b[0m",
      "\u001b[0;31mTypeError\u001b[0m                                 Traceback (most recent call last)",
      "\u001b[1;32m/Users/jinseokhong/PycharmProjects/Daily_Coding/cleancode/20220525/func_method_param.ipynb Cell 26'\u001b[0m in \u001b[0;36m<cell line: 1>\u001b[0;34m()\u001b[0m\n\u001b[0;32m----> <a href='vscode-notebook-cell:/Users/jinseokhong/PycharmProjects/Daily_Coding/cleancode/20220525/func_method_param.ipynb#ch0000032?line=0'>1</a>\u001b[0m function(\u001b[39m*\u001b[39;49m\u001b[39m*\u001b[39;49m{\u001b[39m\"\u001b[39;49m\u001b[39mkey\u001b[39;49m\u001b[39m\"\u001b[39;49m:\u001b[39m\"\u001b[39;49m\u001b[39mvalue\u001b[39;49m\u001b[39m\"\u001b[39;49m})\n",
      "\u001b[0;31mTypeError\u001b[0m: function() got an unexpected keyword argument 'key'"
     ]
    }
   ],
   "source": [
    "# function(**{\"key\":\"value\"})\n",
    "# function(key=\"value\")\n",
    "## Same Function"
   ]
  },
  {
   "cell_type": "code",
   "execution_count": 28,
   "metadata": {},
   "outputs": [
    {
     "name": "stdout",
     "output_type": "stream",
     "text": [
      "{'key': 'value'}\n"
     ]
    }
   ],
   "source": [
    "def function(**kwargs):\n",
    "    print(kwargs)\n",
    "\n",
    "\n",
    "function(**{\"key\":\"value\"})"
   ]
  },
  {
   "cell_type": "code",
   "execution_count": 29,
   "metadata": {},
   "outputs": [
    {
     "name": "stdout",
     "output_type": "stream",
     "text": [
      "{'key': 'value'}\n"
     ]
    }
   ],
   "source": [
    "function(key=\"value\")"
   ]
  },
  {
   "cell_type": "markdown",
   "metadata": {},
   "source": [
    "## 함수 인자의 개수  \n",
    "\n",
    "너무 많은 인자를 사용하는 함수나 메서드는 나쁜 디자인이다.  \n",
    "\n",
    "1. 일반적인 소프트웨어 디자인의 원칙을 사용하는 것.(구체화) -> 전달하는 모든 인자를 포함하는 새로운 객체를 만드는 것.  \n",
    "2. 파이썬의 특정 기능을 사용하는 것 -> 가변 인자나 키워드 인자를 사용하여 동적 서명을 가진 함수를 만든다. ( 매우 동적이므로 유지보수하기 어렵다. )  "
   ]
  },
  {
   "cell_type": "markdown",
   "metadata": {},
   "source": [
    "### 함수 인자와 결합력  \n",
    "생략  \n",
    "\n",
    "### 많은 인자를 취하는 작은 함수의 서명  \n",
    "\n",
    "공통 객체에 파라메타 대부분이 포함되어 있다면 가장 쉽게 수정할 수 있다.  \n",
    "\n",
    "ex) track_request(request.headers, request.ip_addr, request.request_id)  \n",
    "\n",
    "위의 예시인 경우 request를 파라메타로 전달하게 되면 코드를 크게 향상시킬 수 있다.  \n",
    "\n",
    "- 변경 가능한 객체를 전달할 때에는 부작용에 주의해야 하며, 함수는 전달받은 객체를 변경해서는 안된다.   \n",
    "\n",
    "\n",
    "또는 파라메타 그룹핑이라는 방법이 있다.\n",
    "\n",
    "마지막으로 함수의 서명을 변경하여 다양한 인자를 허용할 수 있다.  \n",
    "\n",
    "-> *args, **kwargs를 사용하면 더 이해하기 어려운 상황을 만들 수 있지만, 인터페이스에 대한 문서화를 하고 정확하게 사용했는지 확실히 해야 한다.  \n",
    "-> 융통성 있고, 적응력이 좋은 것은 사실이지만, 서명을 잃어버린다는 것과 가독성을 거의 상실하는 문제가 있다. ( 변수의 이름이 코드를 훨씬 읽기 쉽게 만들지만, 가변 인자 사용시 매우 좋은 Docstring을 만들지 않는 이상 정확한 동작을 알 수 없게 된다. )"
   ]
  },
  {
   "cell_type": "markdown",
   "metadata": {},
   "source": []
  }
 ],
 "metadata": {
  "interpreter": {
   "hash": "c2404796145a4c8f995bff9b0b53de57533433baa09e7ead73dd9d4dc88ce81c"
  },
  "kernelspec": {
   "display_name": "Python 3.8.13 ('torch')",
   "language": "python",
   "name": "python3"
  },
  "language_info": {
   "codemirror_mode": {
    "name": "ipython",
    "version": 3
   },
   "file_extension": ".py",
   "mimetype": "text/x-python",
   "name": "python",
   "nbconvert_exporter": "python",
   "pygments_lexer": "ipython3",
   "version": "3.8.13"
  },
  "orig_nbformat": 4
 },
 "nbformat": 4,
 "nbformat_minor": 2
}
