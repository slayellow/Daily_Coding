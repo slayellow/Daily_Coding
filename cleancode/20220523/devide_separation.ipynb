{
 "cells": [
  {
   "cell_type": "markdown",
   "metadata": {},
   "source": [
    "# 관심사의 분리\n",
    "\n",
    "책임이 다르면 컴포넌트, 계층 또는 모듈로 분리되어야 한다.  \n",
    "\n",
    "\n",
    "소프트웨어에서 관심사를 분리하는 목표는 파급 효과를 최소화하여 유지보수성을 향상시키는 것이다.    \n",
    "    -> 파급 효과 : 어느 지점에서의 변화가 전체로 전파되는 것\n",
    "\n",
    "응집력 : 객체가 작고 잘 정의된 목적을 가져야 하며, 가능하면 작아야 한다는 것  \n",
    "    -> 응집력이 높을수록 더 유용하고 재사용성이 높아지므로 더 좋은 디자인  \n",
    "\n",
    "    \n",
    "결합력 : 2개 이상의 객체가 서로 어떻게 의존하는지를 나타내며, 서로 너무 의존적이라면 다음의 문제가 발생한다.  \n",
    "1. 낮은 재사용성 : 다른 상황에서는 이 함수를 사용하기가 어려워지므로, 재사용성이 낮아진다.  \n",
    "2. 파급 효과 : 2개의 함수 중 하나를 변경하면 다른 부분에도 영향을 미친다.  \n",
    "3. 낮은 수준의 추상화 : 2개의 함수가 너무 가깝게 관련되어 있으면, 서로 다른 추상화 레벨에서 문제를 해결하기 어렵기 때문에 관심사가 분리되어 있다고 보기 어렵다.  "
   ]
  },
  {
   "cell_type": "markdown",
   "metadata": {},
   "source": [
    "# 개발 지침 약어\n",
    "\n",
    "### DRY/OAOO\n",
    "DRY(Do not Repeat Yourself), OAOO(Once and Only Once)는 밀접한 관련이 있으므로 함께 다룬다.  \n",
    "중복을 반드시 피해야 하며, 코드에 있는 지식은 단 한번, 단 한 곳에 정의되어야 하며, 코드 변경 시 수정이 필요한 곳은 단 한군데에만 있어야 한다.  \n",
    "-> 그렇지 않으면 잘못된 시스템의 징조이다.   \n",
    "\n",
    "1. 오류가 발생하기 쉽다 : 어떤 로직이 코드 전체에 여러 번 반복되어 있는데 수정을 한다고 하면, 인스턴스의 하나라도 빠트리면 버그가 발생할 것이다.  \n",
    "2. 비용이 비싸다 : 한 번 정의했을 때보다 여러 곳에서 정의했을 경우 변경하는데 더 많은 시간이 소요된다.  \n",
    "3. 신뢰성이 떨어진다 : 여러 코드 변경 시, 사람이 모든 인스턴스의 위치를 기억해야 한다. ( 데이터의 완결성을 떨어트린다. )  \n",
    "\n",
    "\n",
    "중복은 기존 코드의 지식을 무시함으로써 발생하므로 코드의 특정 부분에 의미를 부여함으로써 해당 지식을 식별하고 표시할 수 있다."
   ]
  },
  {
   "cell_type": "code",
   "execution_count": 2,
   "metadata": {},
   "outputs": [],
   "source": [
    "def process_students_list(students):\n",
    "    # 중간 생략\n",
    "\n",
    "    students_ranking = sorted(students, key=lambda s: s.passed * 11 - s.failed * 5 - s.years * 2)\n",
    "\n",
    "    # 학생별 순위 출력\n",
    "    for student in students_ranking:\n",
    "        print(\"이름: {0}, 점수: {1}\".format(student.name, (student.passed * 11 - student.failed * 5 - student.years * 2),))"
   ]
  },
  {
   "cell_type": "markdown",
   "metadata": {},
   "source": [
    "위와 같이 코드 구현 시 lambda가 아무런 정의가 없기 때문에, 코드가 진행되는 동안에 중복이 발생한다.  \n",
    "\n",
    "- 이런 경우에는 의미를 부여하여, 중복으로부터 벗어나고 이해하기 쉬운 코드가 된다.  \n",
    "- 밑의 코드의 경우, 가장 간단한 방법인 함수 생성 기법을 사용  "
   ]
  },
  {
   "cell_type": "code",
   "execution_count": 3,
   "metadata": {},
   "outputs": [],
   "source": [
    "def score_for_student(student):\n",
    "    return student.passed * 11 - student.failed * 5 - student.years * 2\n",
    "\n",
    "\n",
    "def process_students_list(students):\n",
    "    # 중간 생략\n",
    "    \n",
    "    students_ranking = sorted(students, key=score_for_student)\n",
    "    \n",
    "    # 학생별 순위 출력\n",
    "    for student in students_ranking:\n",
    "        print(\"이름: {0}, 점수: {1}\".format(student.name, score_for_student(student)))"
   ]
  },
  {
   "cell_type": "markdown",
   "metadata": {},
   "source": [
    "### YAGNI  \n",
    "\n",
    "YANGI(You Ain't Gonna Need it)은 과잉 엔지니어링을 하지 않기 위해 솔루션 작성 시 계속 염두에 두어야 하는 원칙  \n",
    "\n",
    "많은 개발자들이 미래의 모든 요구사항을 고려하여 매우 복잡한 솔루션을 만들고, 추상화를 하여 읽기 어렵고, 유지보수가 어렵고, 이해하기 어려운 코드를 만든다.  \n",
    "이럴시 추후 리팩토링하고 확장하는 것이 더 어렵게 되며, 추상화를 잘 못한 결과이다.  \n",
    "\n",
    "유지보수가 가능한 소프트웨어를 만드는 것은 미래의 요구사항을 예측하는 것이 아니라, 현재의 요구사항을 잘 해결하기 위한 소프트웨어를 작성하고 가능한 나중에 수정하기 쉽도록 작성하는 것!   \n",
    "-> 굳이 필요없는 추가 개발을 하지 말라는 것.\n"
   ]
  },
  {
   "cell_type": "markdown",
   "metadata": {},
   "source": []
  }
 ],
 "metadata": {
  "interpreter": {
   "hash": "c2404796145a4c8f995bff9b0b53de57533433baa09e7ead73dd9d4dc88ce81c"
  },
  "kernelspec": {
   "display_name": "Python 3.8.13 ('torch')",
   "language": "python",
   "name": "python3"
  },
  "language_info": {
   "codemirror_mode": {
    "name": "ipython",
    "version": 3
   },
   "file_extension": ".py",
   "mimetype": "text/x-python",
   "name": "python",
   "nbconvert_exporter": "python",
   "pygments_lexer": "ipython3",
   "version": "3.8.13"
  },
  "orig_nbformat": 4
 },
 "nbformat": 4,
 "nbformat_minor": 2
}
