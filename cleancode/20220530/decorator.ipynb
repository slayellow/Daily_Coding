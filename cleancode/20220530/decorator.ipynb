{
 "cells": [
  {
   "cell_type": "markdown",
   "metadata": {},
   "source": [
    "# 파이썬의 데코레이터  \n",
    "\n",
    "classmethod, staticmethod 같은 함수가 원래 메서드의 정의를 변형하는데 사용되고 있었기 때문에 고안된 수단인데 이 방법은 추가 코드가 필요하고 함수의 원래 정의를 수정해야만 했다.  \n",
    "\n",
    "데코레이터는 데코레이터 이후에 나오는 것을 데코레이터의 1번째 파라메타로 하고 데코레이터의 결과 값을 반환하게 한다.  \n",
    "    --> 데코레이터라는 이름은 래핑된 함수의 기능을 수정하고 확장하기 때문에 데코레이터 디자인 패턴과 혼동하면 안 된다.  \n",
    "\n",
    "\n",
    "## 함수 데코레이터   \n",
    "\n",
    "함수에 데코레이터를 사용하면 어떤 종류의 로직이라도 적용할 수 있다.  \n",
    "    -> 파라메타의 유효성을 검사하거나 사전조건을 검사하거나, 기능 전체를 새롭게 정의할 수도 있고, 서명을 변경할 수 있고, 원래 함수의 결과를 캐시하는 등의 작업을 모두 할 수 있다.  "
   ]
  },
  {
   "cell_type": "code",
   "execution_count": null,
   "metadata": {},
   "outputs": [],
   "source": [
    "import logging as logger\n",
    "from functools import wraps\n",
    "\n",
    "\n",
    "class ControlledException(Exception):\n",
    "    '''도메인에서 발생하는 일반적인 예외'''\n",
    "\n",
    "\n",
    "def retry(operation):\n",
    "    @wraps(operation)\n",
    "    def wrapped(*args, **kwargs):\n",
    "        last_raised = None\n",
    "        RETRIES_LIMIT = 3\n",
    "        for _ in range(RETRIES_LIMIT):\n",
    "            try:\n",
    "                return operation(*args, **kwargs)\n",
    "            except ControlledException as e:\n",
    "                logger.info(\"retrying %s\", operation.__qualname__)\n",
    "                last_raised = e\n",
    "    return wrapped"
   ]
  },
  {
   "cell_type": "markdown",
   "metadata": {},
   "source": [
    "## 클래스 데코레이터  \n",
    "\n",
    "- 클래스 데코레이터는 코드 재사용과 DRY 원칙의 모든 이점을 공유한다.  \n",
    "- 당장은 작고 간단한 클래스를 생성하고 나중에 데코레이터로 기능을 보강할 수 있다.  \n",
    "- 어떤 클래스에 대해서는 유지보수 시 데코레이터를 사용해 기존 로직을 훨씬 쉽게 변경할 수 있다.  \n",
    "\n"
   ]
  },
  {
   "cell_type": "code",
   "execution_count": null,
   "metadata": {},
   "outputs": [],
   "source": [
    "class LoginEventSerializer:\n",
    "    def __init__(self, event):\n",
    "        self.event = event\n",
    "\n",
    "\n",
    "    def serialize(self) -> dict:\n",
    "        return {\"username\": self.event.user_name, \"password\": '민감한 정보 삭제', \"ip\": self.event.ip, \n",
    "        \"timestamp\": self.event.timestamp.strftime(\"%Y-%m-%d %H:%M\")}\n",
    "    \n",
    "\n",
    "class LoginEvent:\n",
    "    SERIALIZER = LoginEventSerializer\n",
    "\n",
    "    def __init__(self, username, password, ip, timestamp):\n",
    "        self.username = username\n",
    "        self.password = password\n",
    "        self.ip = ip\n",
    "        self.timestamp = self.timestamp\n",
    "\n",
    "    def serialize(self) -> dict:\n",
    "        return self.SERIALIZER(self).serialize()\n"
   ]
  }
 ],
 "metadata": {
  "language_info": {
   "name": "python"
  },
  "orig_nbformat": 4
 },
 "nbformat": 4,
 "nbformat_minor": 2
}
