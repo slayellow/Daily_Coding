{
 "cells": [
  {
   "cell_type": "markdown",
   "metadata": {},
   "source": [
    "# 컴포지션과 상속\n",
    "상속은 많이 사용하는 개념이지만, 부모 클래스를 확장하여 새로운 클래스를 만들 때마다 부모와 강력하게 결합된 새로운 클래스가 생기게 된다.  \n",
    "-> 소프트웨어 설계 시 결합력을 최소로 하는 것이 중요하다!.  \n",
    "상속에서 많이 사용하는 기능은 코드 재사용으로 부모 클래스에 있는 메서드를 공짜로 얻을 수 있는데 코드 재사용시 여러 상황에서 동작 가능하고 쉽게 조합할 수 있는 응집력 높은 객체를 사용해야 한다.  \n",
    "\n",
    "## 상속이 좋은 선택인 이유\n",
    "\n",
    "새로운 하위 클래스 생성 시 클래스가 올바르게 정의되었는지 확인하기 위해 상속된 모든 메서드를 실제로 사용할 것인지 생각해봐야 한다!!  \n",
    "-> 대부분의 메서드를 필요로 하지 않고 재정의하거나 대체하거나 한다면 설계상의 실수라고 볼 수 있다.   \n",
    "1. 상위 클래스는 잘 정의된 인터페이스 대신 막연한 정의와 너무 많은 책임을 가졌다.  \n",
    "2. 하위 클래스는 확장하려고 하는 상위 클래스의 적절한 세분화가 아니다. \n",
    "\n"
   ]
  },
  {
   "cell_type": "markdown",
   "metadata": {},
   "source": [
    "### 상속 안티패턴\n",
    "\n",
    "개발자가 코드 재사용만을 목적으로 상속을 사용하려고 할 때 자주 발생되는 문제  \n",
    "-> 도메인 문제를 해결하기 위해 적절한 데이터 구조를 만든 다음에 이 데이터 구조를 사용하는 객체를 만들지 않고, 데이터 구조 자체를 객체로 만드는 경우.  "
   ]
  },
  {
   "cell_type": "code",
   "execution_count": 2,
   "metadata": {},
   "outputs": [],
   "source": [
    "import collections\n",
    "\n",
    "class TransactionalPolicy(collections.UserDict):\n",
    "    def change_in_policy(self, customer_id, **new_policy_data):\n",
    "        self[customer_id].update(**new_policy_data)\n"
   ]
  },
  {
   "cell_type": "code",
   "execution_count": 6,
   "metadata": {},
   "outputs": [],
   "source": [
    "from datetime import datetime\n",
    "\n",
    "\n",
    "policy = TransactionalPolicy({\n",
    "    \"client001\": {\n",
    "        \"fee\": 1000.0,\n",
    "        \"expiration_date\": datetime(2020, 1, 3),\n",
    "        }\n",
    "        })\n"
   ]
  },
  {
   "cell_type": "code",
   "execution_count": 9,
   "metadata": {},
   "outputs": [
    {
     "data": {
      "text/plain": [
       "{'fee': 1000.0, 'expiration_date': datetime.datetime(2020, 1, 3, 0, 0)}"
      ]
     },
     "execution_count": 9,
     "metadata": {},
     "output_type": "execute_result"
    }
   ],
   "source": [
    "policy[\"client001\"]"
   ]
  },
  {
   "cell_type": "code",
   "execution_count": 10,
   "metadata": {},
   "outputs": [],
   "source": [
    "policy.change_in_policy(\"client001\", expiration_date=datetime(2020, 1, 4))"
   ]
  },
  {
   "cell_type": "code",
   "execution_count": 12,
   "metadata": {},
   "outputs": [
    {
     "data": {
      "text/plain": [
       "{'fee': 1000.0, 'expiration_date': datetime.datetime(2020, 1, 4, 0, 0)}"
      ]
     },
     "execution_count": 12,
     "metadata": {},
     "output_type": "execute_result"
    }
   ],
   "source": [
    "policy[\"client001\"]"
   ]
  },
  {
   "cell_type": "code",
   "execution_count": 13,
   "metadata": {},
   "outputs": [
    {
     "data": {
      "text/plain": [
       "['_MutableMapping__marker',\n",
       " '__abstractmethods__',\n",
       " '__class__',\n",
       " '__contains__',\n",
       " '__copy__',\n",
       " '__delattr__',\n",
       " '__delitem__',\n",
       " '__dict__',\n",
       " '__dir__',\n",
       " '__doc__',\n",
       " '__eq__',\n",
       " '__format__',\n",
       " '__ge__',\n",
       " '__getattribute__',\n",
       " '__getitem__',\n",
       " '__gt__',\n",
       " '__hash__',\n",
       " '__init__',\n",
       " '__init_subclass__',\n",
       " '__iter__',\n",
       " '__le__',\n",
       " '__len__',\n",
       " '__lt__',\n",
       " '__module__',\n",
       " '__ne__',\n",
       " '__new__',\n",
       " '__reduce__',\n",
       " '__reduce_ex__',\n",
       " '__repr__',\n",
       " '__reversed__',\n",
       " '__setattr__',\n",
       " '__setitem__',\n",
       " '__sizeof__',\n",
       " '__slots__',\n",
       " '__str__',\n",
       " '__subclasshook__',\n",
       " '__weakref__',\n",
       " '_abc_impl',\n",
       " 'change_in_policy',\n",
       " 'clear',\n",
       " 'copy',\n",
       " 'data',\n",
       " 'fromkeys',\n",
       " 'get',\n",
       " 'items',\n",
       " 'keys',\n",
       " 'pop',\n",
       " 'popitem',\n",
       " 'setdefault',\n",
       " 'update',\n",
       " 'values']"
      ]
     },
     "execution_count": 13,
     "metadata": {},
     "output_type": "execute_result"
    }
   ],
   "source": [
    "dir(policy)"
   ]
  },
  {
   "cell_type": "markdown",
   "metadata": {},
   "source": [
    "위와 같은 코드 작성시 2가지 문제점이 있다.\n",
    "1. 계층구조가 잘못된 것으로, 일반적으로 기본클래스에서 새 클래스를 만드는 것은 개념적으로 확장되고 세부적인 것이라는 것을 의미하는데 현 코드에서 TransactionalPolicy라는 이름을 보고 사전 타입이라는 것을 알기는 쉽지 않다.   \n",
    "2. 결합력에 대한 문제로, 사전의 모든 메서드를 포함하는데 사용하지도 않는 메서드들도 있고, 사전 타입을 확장함으로써 얻는 이득도 별로 없다.  \n",
    "\n",
    "--> 위 방법을 해결하기 위해 컴포지션을 사용하여, TransactionalPolicy 자체가 사전이 되는 것이 아니라 사전을 활용하는 것으로 사전을 Private 속성에 저장하고 __getitem__으로 사전의 Proxy를 만들고 나머지 필요한 Public 메서드를 추가적으로 구현하는 것.  "
   ]
  },
  {
   "cell_type": "code",
   "execution_count": null,
   "metadata": {},
   "outputs": [],
   "source": [
    "class TransactionalPolicy:\n",
    "    def __init__(self, policy_data, **extra_data):\n",
    "        self._data = {**policy_data, **extra_data}\n",
    "\n",
    "    def change_in_policy(self, customer_id, **new_policy_data):\n",
    "        self._data[customer_id].update(**new_policy_data)\n",
    "    \n",
    "    def __getitem__(self, customer_id):\n",
    "        return self._data[customer_id]\n",
    "\n",
    "    def __len__(self):\n",
    "        return len(self._data)\n",
    "\n"
   ]
  },
  {
   "cell_type": "markdown",
   "metadata": {},
   "source": [
    "### 파이썬의 다중상속\n",
    "파이썬은 다중 상속을 지원한다.  \n",
    "\n",
    "#### 메서드 결정 순서(MRO)\n",
    "\n",
    "2개 이상의 클래스를 확장하고, 해당 클래스들이 모두 하나의 같은 기본 클래스를 확장한 경우, 맨 아래 클래스가 최상위 클래스에서 오는 메서드를 해결하는 방법이 여러가지 있다.  \n",
    "\n",
    "파이썬은 C3 Linearization 또는 MRO 알고리즘을 사용하여 문제를 해결한다.\n"
   ]
  },
  {
   "cell_type": "code",
   "execution_count": 14,
   "metadata": {},
   "outputs": [],
   "source": [
    "class BaseModule:\n",
    "    module_name = \"top\"\n",
    "\n",
    "    def __init__(self, module_name):\n",
    "        self.name = module_name\n",
    "\n",
    "    def __str__(self):\n",
    "        return f\"{self.module_name}:{self.name}\"\n",
    "\n",
    "\n",
    "class BaseModule1(BaseModule):\n",
    "    module_name = \"module-1\"\n",
    "\n",
    "\n",
    "class BaseModule2(BaseModule):\n",
    "    module_name = \"module-2\"\n",
    "\n",
    "\n",
    "class BaseModule3(BaseModule):\n",
    "    module_name = \"module-3\"\n",
    "\n",
    "\n",
    "class ConcreteModuleA12(BaseModule1, BaseModule2):\n",
    "    ''' 1, 2 '''\n",
    "\n",
    "\n",
    "class ConcreteModuleB23(BaseModule2, BaseModule3):\n",
    "    ''' 2, 3'''"
   ]
  },
  {
   "cell_type": "code",
   "execution_count": 18,
   "metadata": {},
   "outputs": [
    {
     "data": {
      "text/plain": [
       "'module-1:test'"
      ]
     },
     "execution_count": 18,
     "metadata": {},
     "output_type": "execute_result"
    }
   ],
   "source": [
    "str(ConcreteModuleA12(\"test\"))"
   ]
  },
  {
   "cell_type": "code",
   "execution_count": 16,
   "metadata": {},
   "outputs": [
    {
     "data": {
      "text/plain": [
       "['ConcreteModuleA12', 'BaseModule1', 'BaseModule2', 'BaseModule', 'object']"
      ]
     },
     "execution_count": 16,
     "metadata": {},
     "output_type": "execute_result"
    }
   ],
   "source": [
    "[cls.__name__ for cls in ConcreteModuleA12.mro()]"
   ]
  },
  {
   "cell_type": "markdown",
   "metadata": {},
   "source": [
    "#### 믹스인(Mixin)\n",
    "\n",
    "믹스인은 코드를 재사용하기 위해 일반적인 행동을 캡슐화해놓은 기본 클래스이다."
   ]
  },
  {
   "cell_type": "code",
   "execution_count": 19,
   "metadata": {},
   "outputs": [],
   "source": [
    "class BaseTokenizer:\n",
    "    def __init__(self, str_token):\n",
    "        self.str_token = str_token\n",
    "\n",
    "    def __iter__(self):\n",
    "        yield from self.str_token.split('-')"
   ]
  },
  {
   "cell_type": "code",
   "execution_count": 20,
   "metadata": {},
   "outputs": [
    {
     "data": {
      "text/plain": [
       "['28a2320b', 'fd3f', '4627', 'asdfawe3fadf']"
      ]
     },
     "execution_count": 20,
     "metadata": {},
     "output_type": "execute_result"
    }
   ],
   "source": [
    "tk = BaseTokenizer(\"28a2320b-fd3f-4627-asdfawe3fadf\")\n",
    "list(tk)"
   ]
  },
  {
   "cell_type": "code",
   "execution_count": 22,
   "metadata": {},
   "outputs": [],
   "source": [
    "class UpperIterableMixin:\n",
    "    def __iter__(self):\n",
    "        return map(str.upper, super().__iter__())\n",
    "\n",
    "\n",
    "class Tokenizer(UpperIterableMixin, BaseTokenizer):\n",
    "    pass"
   ]
  },
  {
   "cell_type": "code",
   "execution_count": 23,
   "metadata": {},
   "outputs": [
    {
     "data": {
      "text/plain": [
       "['28A2320B', 'FD3F', '4627', 'ASDFAWE3FADF']"
      ]
     },
     "execution_count": 23,
     "metadata": {},
     "output_type": "execute_result"
    }
   ],
   "source": [
    "tk = Tokenizer(\"28a2320b-fd3f-4627-asdfawe3fadf\")\n",
    "list(tk)"
   ]
  },
  {
   "cell_type": "markdown",
   "metadata": {},
   "source": [
    "믹스인을 이용하기 때문에 새로운 코드가 필요 없어서 데코레이터 역할을 수행하며, 믹스인에서 __iter__를 호출하고, super() 호출을 통해 다음 클래스에 위임하여 원하는 결과를 얻을 수 있다."
   ]
  },
  {
   "cell_type": "markdown",
   "metadata": {},
   "source": []
  }
 ],
 "metadata": {
  "interpreter": {
   "hash": "c2404796145a4c8f995bff9b0b53de57533433baa09e7ead73dd9d4dc88ce81c"
  },
  "kernelspec": {
   "display_name": "Python 3.8.13 ('torch')",
   "language": "python",
   "name": "python3"
  },
  "language_info": {
   "codemirror_mode": {
    "name": "ipython",
    "version": 3
   },
   "file_extension": ".py",
   "mimetype": "text/x-python",
   "name": "python",
   "nbconvert_exporter": "python",
   "pygments_lexer": "ipython3",
   "version": "3.8.13"
  },
  "orig_nbformat": 4
 },
 "nbformat": 4,
 "nbformat_minor": 2
}
