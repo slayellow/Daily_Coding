{
 "cells": [
  {
   "cell_type": "markdown",
   "metadata": {},
   "source": [
    "### KIS\n",
    "\n",
    "KIS(Keep It Simple)는 소트ㅔ어 컴포넌트를 설계할 때  과잉 엔지니어링을 피해야 한다.  \n",
    "- 최소한의 기능을 구현하고, 필요한 것 이상으로 복잡하게 만들지 않아야 한다.  \n"
   ]
  },
  {
   "cell_type": "code",
   "execution_count": 1,
   "metadata": {},
   "outputs": [],
   "source": [
    "class ComplicatedNamespace:\n",
    "\n",
    "    ACCEPTED_VALUES = {\"id_\", \"user\", \"location\"}\n",
    "\n",
    "    # 일반적이지 않는 메서드\n",
    "    @classmethod\n",
    "    def init_with_data(cls, **data):\n",
    "        instance = cls()\n",
    "        for key, value in data.items():\n",
    "            if key in cls.ACCEPTED_VALUES:\n",
    "                setattr(instance, key, value)\n",
    "        return instance"
   ]
  },
  {
   "cell_type": "code",
   "execution_count": 2,
   "metadata": {},
   "outputs": [],
   "source": [
    "cn = ComplicatedNamespace.init_with_data(id_=42, user=\"root\", location=\"127.0.0.1\", extra=\"excluded\")\n"
   ]
  },
  {
   "cell_type": "code",
   "execution_count": 3,
   "metadata": {},
   "outputs": [
    {
     "ename": "AttributeError",
     "evalue": "'ComplicatedNamespace' object has no attribute 'ids'",
     "output_type": "error",
     "traceback": [
      "\u001b[0;31m---------------------------------------------------------------------------\u001b[0m",
      "\u001b[0;31mAttributeError\u001b[0m                            Traceback (most recent call last)",
      "\u001b[1;32m/Users/jinseokhong/PycharmProjects/Daily_Coding/cleancode/20220524/divide_separation.ipynb Cell 4'\u001b[0m in \u001b[0;36m<cell line: 1>\u001b[0;34m()\u001b[0m\n\u001b[0;32m----> <a href='vscode-notebook-cell:/Users/jinseokhong/PycharmProjects/Daily_Coding/cleancode/20220524/divide_separation.ipynb#ch0000006?line=0'>1</a>\u001b[0m cn\u001b[39m.\u001b[39;49mids\n",
      "\u001b[0;31mAttributeError\u001b[0m: 'ComplicatedNamespace' object has no attribute 'ids'"
     ]
    }
   ],
   "source": [
    "cn.ids"
   ]
  },
  {
   "cell_type": "code",
   "execution_count": 4,
   "metadata": {},
   "outputs": [
    {
     "data": {
      "text/plain": [
       "42"
      ]
     },
     "execution_count": 4,
     "metadata": {},
     "output_type": "execute_result"
    }
   ],
   "source": [
    "cn.id_"
   ]
  },
  {
   "cell_type": "code",
   "execution_count": 5,
   "metadata": {},
   "outputs": [
    {
     "data": {
      "text/plain": [
       "'root'"
      ]
     },
     "execution_count": 5,
     "metadata": {},
     "output_type": "execute_result"
    }
   ],
   "source": [
    "cn.user"
   ]
  },
  {
   "cell_type": "code",
   "execution_count": 6,
   "metadata": {},
   "outputs": [
    {
     "data": {
      "text/plain": [
       "False"
      ]
     },
     "execution_count": 6,
     "metadata": {},
     "output_type": "execute_result"
    }
   ],
   "source": [
    "hasattr(cn, \"extra\")"
   ]
  },
  {
   "cell_type": "markdown",
   "metadata": {},
   "source": [
    "- 파이썬에서 다른 객체를 초기화할 때는 __init__ 메서드를 사용하는 것이 훨씬 더 간편하다."
   ]
  },
  {
   "cell_type": "code",
   "execution_count": 7,
   "metadata": {},
   "outputs": [],
   "source": [
    "class Namespace:\n",
    "\n",
    "    ACCEPTED_VALUES = (\"id_\", \"user\", \"location\")\n",
    "\n",
    "    def __init__(self, **data):\n",
    "        accepted_data = {k: v for k, v in data.items() if k in self.ACCEPTED_VALUES}\n",
    "        self.__dict__.update(accepted_data)"
   ]
  },
  {
   "cell_type": "markdown",
   "metadata": {},
   "source": [
    "### EAFP/LBYL\n",
    "\n",
    "EAFP(Easier to Ask Forgiveness than Permission) : 허락보다는 용서를 구하는 것이 쉽다.  \n",
    "-> 일단 코드를 실행하고, 실제 동작하지 않을 경우에 대응한다는 뜻으로 발생한 예외를 catch하고 except 블록에서 바로잡는 코드를 실행하게 된다.  \n",
    "\n",
    "\n",
    "LBYL(Look Before You Leap) : 도약하기 전에 살피라는 뜻.  \n",
    "-> 도약하기 전에 무엇을 사용하려고 하는지 확인하라는 뜻.  \n"
   ]
  },
  {
   "cell_type": "code",
   "execution_count": 8,
   "metadata": {},
   "outputs": [],
   "source": [
    "import os\n",
    "filename = \"\"\n",
    "if os.path.exists(filename):\n",
    "    with open(filename) as f:\n",
    "        pass\n",
    "\n"
   ]
  },
  {
   "cell_type": "markdown",
   "metadata": {},
   "source": [
    "위 방식은 파이썬스러운 방식이 아니므로, EAFP 방식으로 구현하기를 권한다."
   ]
  },
  {
   "cell_type": "code",
   "execution_count": 9,
   "metadata": {},
   "outputs": [
    {
     "name": "stderr",
     "output_type": "stream",
     "text": [
      "ERROR:root:[Errno 2] No such file or directory: ''\n"
     ]
    }
   ],
   "source": [
    "import logging as logger\n",
    "\n",
    "try:\n",
    "    with open(filename) as f:\n",
    "        pass\n",
    "except FileNotFoundError as e:\n",
    "    logger.error(e)"
   ]
  },
  {
   "cell_type": "code",
   "execution_count": null,
   "metadata": {},
   "outputs": [],
   "source": []
  }
 ],
 "metadata": {
  "interpreter": {
   "hash": "c2404796145a4c8f995bff9b0b53de57533433baa09e7ead73dd9d4dc88ce81c"
  },
  "kernelspec": {
   "display_name": "Python 3.8.13 ('torch')",
   "language": "python",
   "name": "python3"
  },
  "language_info": {
   "codemirror_mode": {
    "name": "ipython",
    "version": 3
   },
   "file_extension": ".py",
   "mimetype": "text/x-python",
   "name": "python",
   "nbconvert_exporter": "python",
   "pygments_lexer": "ipython3",
   "version": "3.8.13"
  },
  "orig_nbformat": 4
 },
 "nbformat": 4,
 "nbformat_minor": 2
}
